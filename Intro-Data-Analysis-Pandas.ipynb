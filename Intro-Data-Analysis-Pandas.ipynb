{
 "cells": [
  {
   "cell_type": "markdown",
   "metadata": {
    "cell_id": "46bad5f071484413896d44baea9c7637",
    "deepnote_app_block_visible": true,
    "deepnote_cell_type": "markdown",
    "slideshow": {
     "slide_type": "slide"
    },
    "user_expressions": []
   },
   "source": [
    "# <center>Exercises</center>"
   ]
  },
  {
   "cell_type": "markdown",
   "metadata": {
    "cell_id": "da2782da10be4d0fb88b5922e8c03763",
    "deepnote_app_block_visible": true,
    "deepnote_cell_type": "markdown",
    "slideshow": {
     "slide_type": "slide"
    },
    "tags": [],
    "user_expressions": []
   },
   "source": [
    "<div class=\"alert alert-block alert-warning\">\n",
    "<b>Exercise 0:</b> Create a new folder and notebook called <b>Intro-Data-Analysis-Pandas-Exercises</b> where you will perform all the exercises below. Make sure to copy any code you need from this notebook to that one. You will use that folder to create a new GitHub repo with the code, html, and slides as usual.\n",
    "</div>"
   ]
  },
  {
   "cell_type": "markdown",
   "metadata": {
    "cell_id": "a575cd918d2649038997e3cc885cc15f",
    "deepnote_app_block_visible": true,
    "deepnote_cell_type": "markdown",
    "slideshow": {
     "slide_type": "subslide"
    },
    "tags": [],
    "user_expressions": []
   },
   "source": [
    "<div class=\"alert alert-block alert-warning\">\n",
    "<b>Exercise 1:</b> Create a new dataframe <code>pop</code> with population data downloaded from <a href=\"https://en.wikipedia.org/wiki/List_of_countries_by_population_(United_Nations)\">Wikipedia</a>. Make sure to clean the data so it can be used further.\n",
    "</div>"
   ]
  },
  {
   "cell_type": "code",
   "execution_count": null,
   "metadata": {
    "cell_id": "2b816305eb954a4a8e3155631da77b83",
    "deepnote_app_block_visible": true,
    "deepnote_cell_type": "code",
    "deepnote_to_be_reexecuted": false,
    "execution_millis": 380,
    "execution_start": 1711342878989,
    "slideshow": {
     "slide_type": "subslide"
    },
    "source_hash": null,
    "tags": []
   },
   "outputs": [
    {
     "data": {
      "text/plain": [
       "['ISO 3166',\n",
       " 'World Factbook',\n",
       " 'Sovereignty',\n",
       " 'A-2',\n",
       " 'A-3',\n",
       " 'Num.',\n",
       " 'ISO 3166-2',\n",
       " 'TLD']"
      ]
     },
     "execution_count": 20,
     "metadata": {},
     "output_type": "execute_result"
    }
   ],
   "source": [
    "# Import display options for showing websites\n",
    "from IPython.display import IFrame\n",
    "import pandas as pd\n",
    "\n",
    "url = 'https://en.wikipedia.org/wiki/List_of_ISO_3166_country_codes'\n",
    "IFrame(url, width=800, height=400)\n",
    "\n",
    "isocodes = pd.read_html(url, encoding='utf-8')[0]\n",
    "isocodes\n",
    "\n",
    "isocodes.columns\n",
    "\n",
    "isocodes = isocodes.droplevel(0, axis=1)\n",
    "isocodes.head()\n",
    "\n",
    "mycols = isocodes.columns\n",
    "mycols = [c[:c.find('[')].strip() for c in mycols]\n",
    "mycols\n",
    "\n"
   ]
  },
  {
   "cell_type": "code",
   "execution_count": null,
   "metadata": {
    "cell_id": "c873f025c9744f45a8dfc42b6f503499",
    "deepnote_app_block_visible": true,
    "deepnote_cell_type": "code",
    "deepnote_to_be_reexecuted": false,
    "execution_millis": 133,
    "execution_start": 1711342929794,
    "slideshow": {
     "slide_type": "subslide"
    },
    "source_hash": null,
    "tags": []
   },
   "outputs": [],
   "source": [
    "isocodes.columns = mycols"
   ]
  },
  {
   "cell_type": "code",
   "execution_count": null,
   "metadata": {
    "cell_id": "b4b240a5be1e4e75816d69751da7716c",
    "deepnote_app_block_visible": true,
    "deepnote_cell_type": "code",
    "deepnote_to_be_reexecuted": false,
    "execution_millis": 242,
    "execution_start": 1711343065522,
    "slideshow": {
     "slide_type": "subslide"
    },
    "source_hash": null,
    "tags": []
   },
   "outputs": [],
   "source": [
    "isocodes.rename(columns={'ISO 3166-2': 'Subdivision code links'}, inplace= True)\n"
   ]
  },
  {
   "cell_type": "code",
   "execution_count": null,
   "metadata": {
    "cell_id": "9138399d1684492fbf0345a6c633b68a",
    "deepnote_app_block_visible": true,
    "deepnote_cell_type": "code",
    "deepnote_to_be_reexecuted": false,
    "execution_millis": 179,
    "execution_start": 1711343069719,
    "slideshow": {
     "slide_type": "subslide"
    },
    "source_hash": null,
    "tags": []
   },
   "outputs": [
    {
     "data": {
      "application/vnd.deepnote.dataframe.v3+json": {
       "column_count": 9,
       "columns": [
        {
         "dtype": "object",
         "name": "ISO 3166",
         "stats": {
          "categories": [
           {
            "count": 1,
            "name": "Afghanistan"
           },
           {
            "count": 1,
            "name": "Åland Islands"
           },
           {
            "count": 3,
            "name": "3 others"
           }
          ],
          "nan_count": 0,
          "unique_count": 5
         }
        },
        {
         "dtype": "object",
         "name": "World Factbook",
         "stats": {
          "categories": [
           {
            "count": 1,
            "name": "The Islamic Republic of Afghanistan"
           },
           {
            "count": 1,
            "name": "Åland"
           },
           {
            "count": 3,
            "name": "3 others"
           }
          ],
          "nan_count": 0,
          "unique_count": 5
         }
        },
        {
         "dtype": "object",
         "name": "Sovereignty",
         "stats": {
          "categories": [
           {
            "count": 3,
            "name": "UN member"
           },
           {
            "count": 1,
            "name": "Finland"
           },
           {
            "count": 1,
            "name": "United States"
           }
          ],
          "nan_count": 0,
          "unique_count": 3
         }
        },
        {
         "dtype": "object",
         "name": "A-2",
         "stats": {
          "categories": [
           {
            "count": 1,
            "name": "AF"
           },
           {
            "count": 1,
            "name": "AX"
           },
           {
            "count": 3,
            "name": "3 others"
           }
          ],
          "nan_count": 0,
          "unique_count": 5
         }
        },
        {
         "dtype": "object",
         "name": "A-3",
         "stats": {
          "categories": [
           {
            "count": 1,
            "name": "AFG"
           },
           {
            "count": 1,
            "name": "ALA"
           },
           {
            "count": 3,
            "name": "3 others"
           }
          ],
          "nan_count": 0,
          "unique_count": 5
         }
        },
        {
         "dtype": "object",
         "name": "Num.",
         "stats": {
          "categories": [
           {
            "count": 1,
            "name": "004"
           },
           {
            "count": 1,
            "name": "248"
           },
           {
            "count": 3,
            "name": "3 others"
           }
          ],
          "nan_count": 0,
          "unique_count": 5
         }
        },
        {
         "dtype": "object",
         "name": "Subdivision code links",
         "stats": {
          "categories": [
           {
            "count": 1,
            "name": "ISO 3166-2:AF"
           },
           {
            "count": 1,
            "name": "ISO 3166-2:AX"
           },
           {
            "count": 3,
            "name": "3 others"
           }
          ],
          "nan_count": 0,
          "unique_count": 5
         }
        },
        {
         "dtype": "object",
         "name": "TLD",
         "stats": {
          "categories": [
           {
            "count": 1,
            "name": ".af"
           },
           {
            "count": 1,
            "name": ".ax"
           },
           {
            "count": 3,
            "name": "3 others"
           }
          ],
          "nan_count": 0,
          "unique_count": 5
         }
        },
        {
         "dtype": "object",
         "name": "Alpha-2 code original",
         "stats": {
          "categories": [
           {
            "count": 1,
            "name": ".mw-parser-output .monospaced{font-family:monospace,monospace}AF"
           },
           {
            "count": 1,
            "name": "AX"
           },
           {
            "count": 3,
            "name": "3 others"
           }
          ],
          "nan_count": 0,
          "unique_count": 5
         }
        },
        {
         "dtype": "int64",
         "name": "_deepnote_index_column"
        }
       ],
       "row_count": 5,
       "rows": [
        {
         "A-2": "AF",
         "A-3": "AFG",
         "Alpha-2 code original": ".mw-parser-output .monospaced{font-family:monospace,monospace}AF",
         "ISO 3166": "Afghanistan",
         "Num.": "004",
         "Sovereignty": "UN member",
         "Subdivision code links": "ISO 3166-2:AF",
         "TLD": ".af",
         "World Factbook": "The Islamic Republic of Afghanistan",
         "_deepnote_index_column": 0
        },
        {
         "A-2": "AX",
         "A-3": "ALA",
         "Alpha-2 code original": "AX",
         "ISO 3166": "Åland Islands",
         "Num.": "248",
         "Sovereignty": "Finland",
         "Subdivision code links": "ISO 3166-2:AX",
         "TLD": ".ax",
         "World Factbook": "Åland",
         "_deepnote_index_column": 1
        },
        {
         "A-2": "AL",
         "A-3": "ALB",
         "Alpha-2 code original": "AL",
         "ISO 3166": "Albania",
         "Num.": "008",
         "Sovereignty": "UN member",
         "Subdivision code links": "ISO 3166-2:AL",
         "TLD": ".al",
         "World Factbook": "The Republic of Albania",
         "_deepnote_index_column": 2
        },
        {
         "A-2": "DZ",
         "A-3": "DZA",
         "Alpha-2 code original": "DZ",
         "ISO 3166": "Algeria",
         "Num.": "012",
         "Sovereignty": "UN member",
         "Subdivision code links": "ISO 3166-2:DZ",
         "TLD": ".dz",
         "World Factbook": "The People's Democratic Republic of Algeria",
         "_deepnote_index_column": 3
        },
        {
         "A-2": "AS",
         "A-3": "ASM",
         "Alpha-2 code original": "AS",
         "ISO 3166": "American Samoa",
         "Num.": "016",
         "Sovereignty": "United States",
         "Subdivision code links": "ISO 3166-2:AS",
         "TLD": ".as",
         "World Factbook": "The Territory of American Samoa",
         "_deepnote_index_column": 4
        }
       ]
      },
      "text/html": [
       "<div>\n",
       "<style scoped>\n",
       "    .dataframe tbody tr th:only-of-type {\n",
       "        vertical-align: middle;\n",
       "    }\n",
       "\n",
       "    .dataframe tbody tr th {\n",
       "        vertical-align: top;\n",
       "    }\n",
       "\n",
       "    .dataframe thead th {\n",
       "        text-align: right;\n",
       "    }\n",
       "</style>\n",
       "<table border=\"1\" class=\"dataframe\">\n",
       "  <thead>\n",
       "    <tr style=\"text-align: right;\">\n",
       "      <th></th>\n",
       "      <th>ISO 3166</th>\n",
       "      <th>World Factbook</th>\n",
       "      <th>Sovereignty</th>\n",
       "      <th>A-2</th>\n",
       "      <th>A-3</th>\n",
       "      <th>Num.</th>\n",
       "      <th>Subdivision code links</th>\n",
       "      <th>TLD</th>\n",
       "      <th>Alpha-2 code original</th>\n",
       "    </tr>\n",
       "  </thead>\n",
       "  <tbody>\n",
       "    <tr>\n",
       "      <th>0</th>\n",
       "      <td>Afghanistan</td>\n",
       "      <td>The Islamic Republic of Afghanistan</td>\n",
       "      <td>UN member</td>\n",
       "      <td>AF</td>\n",
       "      <td>AFG</td>\n",
       "      <td>004</td>\n",
       "      <td>ISO 3166-2:AF</td>\n",
       "      <td>.af</td>\n",
       "      <td>.mw-parser-output .monospaced{font-family:mono...</td>\n",
       "    </tr>\n",
       "    <tr>\n",
       "      <th>1</th>\n",
       "      <td>Åland Islands</td>\n",
       "      <td>Åland</td>\n",
       "      <td>Finland</td>\n",
       "      <td>AX</td>\n",
       "      <td>ALA</td>\n",
       "      <td>248</td>\n",
       "      <td>ISO 3166-2:AX</td>\n",
       "      <td>.ax</td>\n",
       "      <td>AX</td>\n",
       "    </tr>\n",
       "    <tr>\n",
       "      <th>2</th>\n",
       "      <td>Albania</td>\n",
       "      <td>The Republic of Albania</td>\n",
       "      <td>UN member</td>\n",
       "      <td>AL</td>\n",
       "      <td>ALB</td>\n",
       "      <td>008</td>\n",
       "      <td>ISO 3166-2:AL</td>\n",
       "      <td>.al</td>\n",
       "      <td>AL</td>\n",
       "    </tr>\n",
       "    <tr>\n",
       "      <th>3</th>\n",
       "      <td>Algeria</td>\n",
       "      <td>The People's Democratic Republic of Algeria</td>\n",
       "      <td>UN member</td>\n",
       "      <td>DZ</td>\n",
       "      <td>DZA</td>\n",
       "      <td>012</td>\n",
       "      <td>ISO 3166-2:DZ</td>\n",
       "      <td>.dz</td>\n",
       "      <td>DZ</td>\n",
       "    </tr>\n",
       "    <tr>\n",
       "      <th>4</th>\n",
       "      <td>American Samoa</td>\n",
       "      <td>The Territory of American Samoa</td>\n",
       "      <td>United States</td>\n",
       "      <td>AS</td>\n",
       "      <td>ASM</td>\n",
       "      <td>016</td>\n",
       "      <td>ISO 3166-2:AS</td>\n",
       "      <td>.as</td>\n",
       "      <td>AS</td>\n",
       "    </tr>\n",
       "  </tbody>\n",
       "</table>\n",
       "</div>"
      ],
      "text/plain": [
       "         ISO 3166                               World Factbook    Sovereignty  \\\n",
       "0     Afghanistan          The Islamic Republic of Afghanistan      UN member   \n",
       "1   Åland Islands                                        Åland        Finland   \n",
       "2         Albania                      The Republic of Albania      UN member   \n",
       "3         Algeria  The People's Democratic Republic of Algeria      UN member   \n",
       "4  American Samoa              The Territory of American Samoa  United States   \n",
       "\n",
       "  A-2  A-3 Num. Subdivision code links  TLD  \\\n",
       "0  AF  AFG  004          ISO 3166-2:AF  .af   \n",
       "1  AX  ALA  248          ISO 3166-2:AX  .ax   \n",
       "2  AL  ALB  008          ISO 3166-2:AL  .al   \n",
       "3  DZ  DZA  012          ISO 3166-2:DZ  .dz   \n",
       "4  AS  ASM  016          ISO 3166-2:AS  .as   \n",
       "\n",
       "                               Alpha-2 code original  \n",
       "0  .mw-parser-output .monospaced{font-family:mono...  \n",
       "1                                                 AX  \n",
       "2                                                 AL  \n",
       "3                                                 DZ  \n",
       "4                                                 AS  "
      ]
     },
     "execution_count": 27,
     "metadata": {},
     "output_type": "execute_result"
    }
   ],
   "source": [
    "isocodes['Alpha-2 code original'] = isocodes['A-2']\n",
    "isocodes['A-2'] = isocodes['Subdivision code links'].apply(lambda x: x[x.find(':')+1:])\n",
    "isocodes.head()"
   ]
  },
  {
   "cell_type": "code",
   "execution_count": null,
   "metadata": {
    "cell_id": "54ab40630a20418fbf5bbc7948ac8447",
    "deepnote_app_block_visible": true,
    "deepnote_cell_type": "code",
    "deepnote_to_be_reexecuted": false,
    "execution_millis": 268,
    "execution_start": 1711343227495,
    "slideshow": {
     "slide_type": "subslide"
    },
    "source_hash": null,
    "tags": []
   },
   "outputs": [],
   "source": [
    "\n",
    "url = 'https://en.wikipedia.org/wiki/List_of_countries_and_dependencies_by_population'\n",
    "tables = pd.read_html(url)\n"
   ]
  },
  {
   "cell_type": "code",
   "execution_count": null,
   "metadata": {
    "cell_id": "3fa2bdf7eb4e43a5a24cc07f75f9e83e",
    "deepnote_app_block_visible": true,
    "deepnote_cell_type": "code",
    "deepnote_to_be_reexecuted": false,
    "execution_millis": 35,
    "execution_start": 1711344407797,
    "slideshow": {
     "slide_type": "subslide"
    },
    "source_hash": null,
    "tags": []
   },
   "outputs": [],
   "source": [
    "isocodes.rename(columns={'ISO 3166': 'Country'}, inplace= True)"
   ]
  },
  {
   "cell_type": "code",
   "execution_count": null,
   "metadata": {
    "cell_id": "876bf768372c4baf9cab443cec4fcda6",
    "deepnote_app_block_visible": true,
    "deepnote_cell_type": "code",
    "deepnote_to_be_reexecuted": false,
    "execution_millis": 27,
    "execution_start": 1711343383318,
    "slideshow": {
     "slide_type": "subslide"
    },
    "source_hash": null,
    "tags": []
   },
   "outputs": [
    {
     "data": {
      "application/vnd.deepnote.dataframe.v3+json": {
       "column_count": 6,
       "columns": [
        {
         "dtype": "object",
         "name": "Unnamed: 0",
         "stats": {
          "categories": [
           {
            "count": 2,
            "name": "[b]"
           },
           {
            "count": 2,
            "name": "2 others"
           },
           {
            "count": 1,
            "name": "Missing"
           }
          ],
          "nan_count": 1,
          "unique_count": 3
         }
        },
        {
         "dtype": "object",
         "name": "Location",
         "stats": {
          "categories": [
           {
            "count": 1,
            "name": "World"
           },
           {
            "count": 1,
            "name": "China"
           },
           {
            "count": 3,
            "name": "3 others"
           }
          ],
          "nan_count": 0,
          "unique_count": 5
         }
        },
        {
         "dtype": "int64",
         "name": "Population",
         "stats": {
          "histogram": [
           {
            "bin_end": 1060866479.4,
            "bin_start": 279118866,
            "count": 2
           },
           {
            "bin_end": 1842614092.8,
            "bin_start": 1060866479.4,
            "count": 2
           },
           {
            "bin_end": 2624361706.2,
            "bin_start": 1842614092.8,
            "count": 0
           },
           {
            "bin_end": 3406109319.6,
            "bin_start": 2624361706.2,
            "count": 0
           },
           {
            "bin_end": 4187856933,
            "bin_start": 3406109319.6,
            "count": 0
           },
           {
            "bin_end": 4969604546.4,
            "bin_start": 4187856933,
            "count": 0
           },
           {
            "bin_end": 5751352159.8,
            "bin_start": 4969604546.4,
            "count": 0
           },
           {
            "bin_end": 6533099773.2,
            "bin_start": 5751352159.8,
            "count": 0
           },
           {
            "bin_end": 7314847386.599999,
            "bin_start": 6533099773.2,
            "count": 0
           },
           {
            "bin_end": 8096595000,
            "bin_start": 7314847386.599999,
            "count": 1
           }
          ],
          "max": "8096595000",
          "min": "279118866",
          "nan_count": 0,
          "unique_count": 5
         }
        },
        {
         "dtype": "object",
         "name": "% of world",
         "stats": {
          "categories": [
           {
            "count": 1,
            "name": "100%"
           },
           {
            "count": 4,
            "name": "Missing"
           }
          ],
          "nan_count": 4,
          "unique_count": 1
         }
        },
        {
         "dtype": "object",
         "name": "Date",
         "stats": {
          "categories": [
           {
            "count": 2,
            "name": "1 Jul 2023"
           },
           {
            "count": 1,
            "name": "23 Mar 2024"
           },
           {
            "count": 2,
            "name": "2 others"
           }
          ],
          "nan_count": 0,
          "unique_count": 4
         }
        },
        {
         "dtype": "object",
         "name": "Source (official or from the United Nations)",
         "stats": {
          "categories": [
           {
            "count": 1,
            "name": "UN projection[3]"
           },
           {
            "count": 1,
            "name": "Official estimate[5]"
           },
           {
            "count": 3,
            "name": "3 others"
           }
          ],
          "nan_count": 0,
          "unique_count": 5
         }
        },
        {
         "dtype": "int64",
         "name": "_deepnote_index_column"
        }
       ],
       "row_count": 5,
       "rows": [
        {
         "% of world": "100%",
         "Date": "23 Mar 2024",
         "Location": "World",
         "Population": 8096595000,
         "Source (official or from the United Nations)": "UN projection[3]",
         "Unnamed: 0": "nan",
         "_deepnote_index_column": 0
        },
        {
         "% of world": "nan",
         "Date": "31 Dec 2023",
         "Location": "China",
         "Population": 1409670000,
         "Source (official or from the United Nations)": "Official estimate[5]",
         "Unnamed: 0": "[b]",
         "_deepnote_index_column": 1
        },
        {
         "% of world": "nan",
         "Date": "1 Jul 2023",
         "Location": "India",
         "Population": 1392329000,
         "Source (official or from the United Nations)": "Official projection[6]",
         "Unnamed: 0": "[b]",
         "_deepnote_index_column": 2
        },
        {
         "% of world": "nan",
         "Date": "1 Jan 2024",
         "Location": "United States",
         "Population": 335893238,
         "Source (official or from the United Nations)": "Official estimate[7]",
         "Unnamed: 0": "3",
         "_deepnote_index_column": 3
        },
        {
         "% of world": "nan",
         "Date": "1 Jul 2023",
         "Location": "Indonesia",
         "Population": 279118866,
         "Source (official or from the United Nations)": "National annual projection[8]",
         "Unnamed: 0": "4",
         "_deepnote_index_column": 4
        }
       ]
      },
      "text/html": [
       "<div>\n",
       "<style scoped>\n",
       "    .dataframe tbody tr th:only-of-type {\n",
       "        vertical-align: middle;\n",
       "    }\n",
       "\n",
       "    .dataframe tbody tr th {\n",
       "        vertical-align: top;\n",
       "    }\n",
       "\n",
       "    .dataframe thead th {\n",
       "        text-align: right;\n",
       "    }\n",
       "</style>\n",
       "<table border=\"1\" class=\"dataframe\">\n",
       "  <thead>\n",
       "    <tr style=\"text-align: right;\">\n",
       "      <th></th>\n",
       "      <th>Unnamed: 0</th>\n",
       "      <th>Location</th>\n",
       "      <th>Population</th>\n",
       "      <th>% of world</th>\n",
       "      <th>Date</th>\n",
       "      <th>Source (official or from the United Nations)</th>\n",
       "    </tr>\n",
       "  </thead>\n",
       "  <tbody>\n",
       "    <tr>\n",
       "      <th>0</th>\n",
       "      <td>NaN</td>\n",
       "      <td>World</td>\n",
       "      <td>8096595000</td>\n",
       "      <td>100%</td>\n",
       "      <td>23 Mar 2024</td>\n",
       "      <td>UN projection[3]</td>\n",
       "    </tr>\n",
       "    <tr>\n",
       "      <th>1</th>\n",
       "      <td>[b]</td>\n",
       "      <td>China</td>\n",
       "      <td>1409670000</td>\n",
       "      <td>NaN</td>\n",
       "      <td>31 Dec 2023</td>\n",
       "      <td>Official estimate[5]</td>\n",
       "    </tr>\n",
       "    <tr>\n",
       "      <th>2</th>\n",
       "      <td>[b]</td>\n",
       "      <td>India</td>\n",
       "      <td>1392329000</td>\n",
       "      <td>NaN</td>\n",
       "      <td>1 Jul 2023</td>\n",
       "      <td>Official projection[6]</td>\n",
       "    </tr>\n",
       "    <tr>\n",
       "      <th>3</th>\n",
       "      <td>3</td>\n",
       "      <td>United States</td>\n",
       "      <td>335893238</td>\n",
       "      <td>NaN</td>\n",
       "      <td>1 Jan 2024</td>\n",
       "      <td>Official estimate[7]</td>\n",
       "    </tr>\n",
       "    <tr>\n",
       "      <th>4</th>\n",
       "      <td>4</td>\n",
       "      <td>Indonesia</td>\n",
       "      <td>279118866</td>\n",
       "      <td>NaN</td>\n",
       "      <td>1 Jul 2023</td>\n",
       "      <td>National annual projection[8]</td>\n",
       "    </tr>\n",
       "  </tbody>\n",
       "</table>\n",
       "</div>"
      ],
      "text/plain": [
       "  Unnamed: 0       Location  Population % of world         Date  \\\n",
       "0        NaN          World  8096595000       100%  23 Mar 2024   \n",
       "1        [b]          China  1409670000        NaN  31 Dec 2023   \n",
       "2        [b]          India  1392329000        NaN   1 Jul 2023   \n",
       "3          3  United States   335893238        NaN   1 Jan 2024   \n",
       "4          4      Indonesia   279118866        NaN   1 Jul 2023   \n",
       "\n",
       "  Source (official or from the United Nations)  \n",
       "0                             UN projection[3]  \n",
       "1                         Official estimate[5]  \n",
       "2                       Official projection[6]  \n",
       "3                         Official estimate[7]  \n",
       "4                National annual projection[8]  "
      ]
     },
     "execution_count": 37,
     "metadata": {},
     "output_type": "execute_result"
    }
   ],
   "source": [
    "population_table = tables[0]\n",
    "population_table = population_table.iloc[:, :-1]\n",
    "population_table.head()"
   ]
  },
  {
   "cell_type": "code",
   "execution_count": null,
   "metadata": {
    "cell_id": "4ac8e0362827498981ec5c5c301ec346",
    "deepnote_app_block_visible": true,
    "deepnote_cell_type": "code",
    "deepnote_to_be_reexecuted": false,
    "execution_millis": 110,
    "execution_start": 1711344817136,
    "slideshow": {
     "slide_type": "subslide"
    },
    "source_hash": null,
    "tags": []
   },
   "outputs": [
    {
     "name": "stdout",
     "output_type": "stream",
     "text": [
      "         Country  Population\n",
      "0          World  8096595000\n",
      "1          China  1409670000\n",
      "2          India  1392329000\n",
      "3  United States   335893238\n",
      "4      Indonesia   279118866\n",
      "/tmp/ipykernel_83/4198477249.py:3: SettingWithCopyWarning: \n",
      "A value is trying to be set on a copy of a slice from a DataFrame\n",
      "\n",
      "See the caveats in the documentation: https://pandas.pydata.org/pandas-docs/stable/user_guide/indexing.html#returning-a-view-versus-a-copy\n",
      "  pop.rename(columns={'Country (or dependent territory)': 'Country'}, inplace= True)\n"
     ]
    }
   ],
   "source": [
    "population_table.columns = ['Rank', 'Country (or dependent territory)', 'Population', '% of world population', 'Date', 'Source']\n",
    "pop = population_table[['Country (or dependent territory)', 'Population']]\n",
    "pop.rename(columns={'Country (or dependent territory)': 'Country'}, inplace= True)\n",
    "print(pop.head())"
   ]
  },
  {
   "cell_type": "markdown",
   "metadata": {
    "cell_id": "760ebf4ae7274bc68aec3b0c63dbce54",
    "deepnote_app_block_visible": true,
    "deepnote_cell_type": "markdown",
    "slideshow": {
     "slide_type": "slide"
    },
    "tags": [],
    "user_expressions": []
   },
   "source": [
    "<div class=\"alert alert-block alert-warning\">\n",
    "<b>Exercise 2:</b> Merge the <code>isocodes</code> and <code>pop</code> dataframes.\n",
    "</div>"
   ]
  },
  {
   "cell_type": "code",
   "execution_count": null,
   "metadata": {
    "cell_id": "ad1834f489104e378c2c982932e1c159",
    "deepnote_app_block_visible": true,
    "deepnote_cell_type": "code",
    "deepnote_to_be_reexecuted": false,
    "execution_millis": 62,
    "execution_start": 1711345673935,
    "slideshow": {
     "slide_type": "subslide"
    },
    "source_hash": null,
    "tags": []
   },
   "outputs": [
    {
     "data": {
      "application/vnd.deepnote.dataframe.v3+json": {
       "column_count": 10,
       "columns": [
        {
         "dtype": "object",
         "name": "Country",
         "stats": {
          "categories": [
           {
            "count": 1,
            "name": "Afghanistan"
           },
           {
            "count": 1,
            "name": "Albania"
           },
           {
            "count": 153,
            "name": "153 others"
           }
          ],
          "nan_count": 0,
          "unique_count": 155
         }
        },
        {
         "dtype": "object",
         "name": "World Factbook",
         "stats": {
          "categories": [
           {
            "count": 1,
            "name": "The Islamic Republic of Afghanistan"
           },
           {
            "count": 1,
            "name": "The Republic of Albania"
           },
           {
            "count": 153,
            "name": "153 others"
           }
          ],
          "nan_count": 0,
          "unique_count": 155
         }
        },
        {
         "dtype": "object",
         "name": "Sovereignty",
         "stats": {
          "categories": [
           {
            "count": 154,
            "name": "UN member"
           },
           {
            "count": 1,
            "name": "New Zealand"
           }
          ],
          "nan_count": 0,
          "unique_count": 2
         }
        },
        {
         "dtype": "object",
         "name": "A-2",
         "stats": {
          "categories": [
           {
            "count": 1,
            "name": "AF"
           },
           {
            "count": 1,
            "name": "AL"
           },
           {
            "count": 153,
            "name": "153 others"
           }
          ],
          "nan_count": 0,
          "unique_count": 155
         }
        },
        {
         "dtype": "object",
         "name": "A-3",
         "stats": {
          "categories": [
           {
            "count": 1,
            "name": "AFG"
           },
           {
            "count": 1,
            "name": "ALB"
           },
           {
            "count": 153,
            "name": "153 others"
           }
          ],
          "nan_count": 0,
          "unique_count": 155
         }
        },
        {
         "dtype": "object",
         "name": "Num.",
         "stats": {
          "categories": [
           {
            "count": 1,
            "name": "004"
           },
           {
            "count": 1,
            "name": "008"
           },
           {
            "count": 153,
            "name": "153 others"
           }
          ],
          "nan_count": 0,
          "unique_count": 155
         }
        },
        {
         "dtype": "object",
         "name": "Subdivision code links",
         "stats": {
          "categories": [
           {
            "count": 1,
            "name": "ISO 3166-2:AF"
           },
           {
            "count": 1,
            "name": "ISO 3166-2:AL"
           },
           {
            "count": 153,
            "name": "153 others"
           }
          ],
          "nan_count": 0,
          "unique_count": 155
         }
        },
        {
         "dtype": "object",
         "name": "TLD",
         "stats": {
          "categories": [
           {
            "count": 1,
            "name": ".af"
           },
           {
            "count": 1,
            "name": ".al"
           },
           {
            "count": 153,
            "name": "153 others"
           }
          ],
          "nan_count": 0,
          "unique_count": 155
         }
        },
        {
         "dtype": "object",
         "name": "Alpha-2 code original",
         "stats": {
          "categories": [
           {
            "count": 1,
            "name": ".mw-parser-output .monospaced{font-family:monospace,monospace}AF"
           },
           {
            "count": 153,
            "name": "153 others"
           },
           {
            "count": 1,
            "name": "Missing"
           }
          ],
          "nan_count": 1,
          "unique_count": 154
         }
        },
        {
         "dtype": "int64",
         "name": "Population",
         "stats": {
          "histogram": [
           {
            "bin_end": 140968520.1,
            "bin_start": 1689,
            "count": 148
           },
           {
            "bin_end": 281935351.2,
            "bin_start": 140968520.1,
            "count": 5
           },
           {
            "bin_end": 422902182.29999995,
            "bin_start": 281935351.2,
            "count": 0
           },
           {
            "bin_end": 563869013.4,
            "bin_start": 422902182.29999995,
            "count": 0
           },
           {
            "bin_end": 704835844.5,
            "bin_start": 563869013.4,
            "count": 0
           },
           {
            "bin_end": 845802675.5999999,
            "bin_start": 704835844.5,
            "count": 0
           },
           {
            "bin_end": 986769506.6999999,
            "bin_start": 845802675.5999999,
            "count": 0
           },
           {
            "bin_end": 1127736337.8,
            "bin_start": 986769506.6999999,
            "count": 0
           },
           {
            "bin_end": 1268703168.8999999,
            "bin_start": 1127736337.8,
            "count": 0
           },
           {
            "bin_end": 1409670000,
            "bin_start": 1268703168.8999999,
            "count": 2
           }
          ],
          "max": "1409670000",
          "min": "1689",
          "nan_count": 0,
          "unique_count": 155
         }
        },
        {
         "dtype": "int64",
         "name": "_deepnote_index_column"
        }
       ],
       "row_count": 155,
       "rows": [
        {
         "A-2": "AF",
         "A-3": "AFG",
         "Alpha-2 code original": ".mw-parser-output .monospaced{font-family:monospace,monospace}AF",
         "Country": "Afghanistan",
         "Num.": "004",
         "Population": 34262840,
         "Sovereignty": "UN member",
         "Subdivision code links": "ISO 3166-2:AF",
         "TLD": ".af",
         "World Factbook": "The Islamic Republic of Afghanistan",
         "_deepnote_index_column": 0
        },
        {
         "A-2": "AL",
         "A-3": "ALB",
         "Alpha-2 code original": "AL",
         "Country": "Albania",
         "Num.": "008",
         "Population": 2761785,
         "Sovereignty": "UN member",
         "Subdivision code links": "ISO 3166-2:AL",
         "TLD": ".al",
         "World Factbook": "The Republic of Albania",
         "_deepnote_index_column": 1
        },
        {
         "A-2": "DZ",
         "A-3": "DZA",
         "Alpha-2 code original": "DZ",
         "Country": "Algeria",
         "Num.": "012",
         "Population": 45400000,
         "Sovereignty": "UN member",
         "Subdivision code links": "ISO 3166-2:DZ",
         "TLD": ".dz",
         "World Factbook": "The People's Democratic Republic of Algeria",
         "_deepnote_index_column": 2
        },
        {
         "A-2": "AD",
         "A-3": "AND",
         "Alpha-2 code original": "AD",
         "Country": "Andorra",
         "Num.": "020",
         "Population": 85101,
         "Sovereignty": "UN member",
         "Subdivision code links": "ISO 3166-2:AD",
         "TLD": ".ad",
         "World Factbook": "The Principality of Andorra",
         "_deepnote_index_column": 3
        },
        {
         "A-2": "AO",
         "A-3": "AGO",
         "Alpha-2 code original": "AO",
         "Country": "Angola",
         "Num.": "024",
         "Population": 34094077,
         "Sovereignty": "UN member",
         "Subdivision code links": "ISO 3166-2:AO",
         "TLD": ".ao",
         "World Factbook": "The Republic of Angola",
         "_deepnote_index_column": 4
        },
        {
         "A-2": "AG",
         "A-3": "ATG",
         "Alpha-2 code original": "AG",
         "Country": "Antigua and Barbuda",
         "Num.": "028",
         "Population": 100772,
         "Sovereignty": "UN member",
         "Subdivision code links": "ISO 3166-2:AG",
         "TLD": ".ag",
         "World Factbook": "Antigua and Barbuda",
         "_deepnote_index_column": 5
        },
        {
         "A-2": "AR",
         "A-3": "ARG",
         "Alpha-2 code original": "AR",
         "Country": "Argentina",
         "Num.": "032",
         "Population": 46654581,
         "Sovereignty": "UN member",
         "Subdivision code links": "ISO 3166-2:AR",
         "TLD": ".ar",
         "World Factbook": "The Argentine Republic",
         "_deepnote_index_column": 6
        },
        {
         "A-2": "AM",
         "A-3": "ARM",
         "Alpha-2 code original": "AM",
         "Country": "Armenia",
         "Num.": "051",
         "Population": 2981200,
         "Sovereignty": "UN member",
         "Subdivision code links": "ISO 3166-2:AM",
         "TLD": ".am",
         "World Factbook": "The Republic of Armenia",
         "_deepnote_index_column": 7
        },
        {
         "A-2": "AT",
         "A-3": "AUT",
         "Alpha-2 code original": "AT",
         "Country": "Austria",
         "Num.": "040",
         "Population": 9159993,
         "Sovereignty": "UN member",
         "Subdivision code links": "ISO 3166-2:AT",
         "TLD": ".at",
         "World Factbook": "The Republic of Austria",
         "_deepnote_index_column": 8
        },
        {
         "A-2": "AZ",
         "A-3": "AZE",
         "Alpha-2 code original": "AZ",
         "Country": "Azerbaijan",
         "Num.": "031",
         "Population": 10151517,
         "Sovereignty": "UN member",
         "Subdivision code links": "ISO 3166-2:AZ",
         "TLD": ".az",
         "World Factbook": "The Republic of Azerbaijan",
         "_deepnote_index_column": 9
        }
       ]
      },
      "text/html": [
       "<div>\n",
       "<style scoped>\n",
       "    .dataframe tbody tr th:only-of-type {\n",
       "        vertical-align: middle;\n",
       "    }\n",
       "\n",
       "    .dataframe tbody tr th {\n",
       "        vertical-align: top;\n",
       "    }\n",
       "\n",
       "    .dataframe thead th {\n",
       "        text-align: right;\n",
       "    }\n",
       "</style>\n",
       "<table border=\"1\" class=\"dataframe\">\n",
       "  <thead>\n",
       "    <tr style=\"text-align: right;\">\n",
       "      <th></th>\n",
       "      <th>Country</th>\n",
       "      <th>World Factbook</th>\n",
       "      <th>Sovereignty</th>\n",
       "      <th>A-2</th>\n",
       "      <th>A-3</th>\n",
       "      <th>Num.</th>\n",
       "      <th>Subdivision code links</th>\n",
       "      <th>TLD</th>\n",
       "      <th>Alpha-2 code original</th>\n",
       "      <th>Population</th>\n",
       "    </tr>\n",
       "  </thead>\n",
       "  <tbody>\n",
       "    <tr>\n",
       "      <th>0</th>\n",
       "      <td>Afghanistan</td>\n",
       "      <td>The Islamic Republic of Afghanistan</td>\n",
       "      <td>UN member</td>\n",
       "      <td>AF</td>\n",
       "      <td>AFG</td>\n",
       "      <td>004</td>\n",
       "      <td>ISO 3166-2:AF</td>\n",
       "      <td>.af</td>\n",
       "      <td>.mw-parser-output .monospaced{font-family:mono...</td>\n",
       "      <td>34262840</td>\n",
       "    </tr>\n",
       "    <tr>\n",
       "      <th>1</th>\n",
       "      <td>Albania</td>\n",
       "      <td>The Republic of Albania</td>\n",
       "      <td>UN member</td>\n",
       "      <td>AL</td>\n",
       "      <td>ALB</td>\n",
       "      <td>008</td>\n",
       "      <td>ISO 3166-2:AL</td>\n",
       "      <td>.al</td>\n",
       "      <td>AL</td>\n",
       "      <td>2761785</td>\n",
       "    </tr>\n",
       "    <tr>\n",
       "      <th>2</th>\n",
       "      <td>Algeria</td>\n",
       "      <td>The People's Democratic Republic of Algeria</td>\n",
       "      <td>UN member</td>\n",
       "      <td>DZ</td>\n",
       "      <td>DZA</td>\n",
       "      <td>012</td>\n",
       "      <td>ISO 3166-2:DZ</td>\n",
       "      <td>.dz</td>\n",
       "      <td>DZ</td>\n",
       "      <td>45400000</td>\n",
       "    </tr>\n",
       "    <tr>\n",
       "      <th>3</th>\n",
       "      <td>Andorra</td>\n",
       "      <td>The Principality of Andorra</td>\n",
       "      <td>UN member</td>\n",
       "      <td>AD</td>\n",
       "      <td>AND</td>\n",
       "      <td>020</td>\n",
       "      <td>ISO 3166-2:AD</td>\n",
       "      <td>.ad</td>\n",
       "      <td>AD</td>\n",
       "      <td>85101</td>\n",
       "    </tr>\n",
       "    <tr>\n",
       "      <th>4</th>\n",
       "      <td>Angola</td>\n",
       "      <td>The Republic of Angola</td>\n",
       "      <td>UN member</td>\n",
       "      <td>AO</td>\n",
       "      <td>AGO</td>\n",
       "      <td>024</td>\n",
       "      <td>ISO 3166-2:AO</td>\n",
       "      <td>.ao</td>\n",
       "      <td>AO</td>\n",
       "      <td>34094077</td>\n",
       "    </tr>\n",
       "    <tr>\n",
       "      <th>...</th>\n",
       "      <td>...</td>\n",
       "      <td>...</td>\n",
       "      <td>...</td>\n",
       "      <td>...</td>\n",
       "      <td>...</td>\n",
       "      <td>...</td>\n",
       "      <td>...</td>\n",
       "      <td>...</td>\n",
       "      <td>...</td>\n",
       "      <td>...</td>\n",
       "    </tr>\n",
       "    <tr>\n",
       "      <th>150</th>\n",
       "      <td>Uzbekistan</td>\n",
       "      <td>The Republic of Uzbekistan</td>\n",
       "      <td>UN member</td>\n",
       "      <td>UZ</td>\n",
       "      <td>UZB</td>\n",
       "      <td>860</td>\n",
       "      <td>ISO 3166-2:UZ</td>\n",
       "      <td>.uz</td>\n",
       "      <td>UZ</td>\n",
       "      <td>36599764</td>\n",
       "    </tr>\n",
       "    <tr>\n",
       "      <th>151</th>\n",
       "      <td>Vanuatu</td>\n",
       "      <td>The Republic of Vanuatu</td>\n",
       "      <td>UN member</td>\n",
       "      <td>VU</td>\n",
       "      <td>VUT</td>\n",
       "      <td>548</td>\n",
       "      <td>ISO 3166-2:VU</td>\n",
       "      <td>.vu</td>\n",
       "      <td>VU</td>\n",
       "      <td>301295</td>\n",
       "    </tr>\n",
       "    <tr>\n",
       "      <th>152</th>\n",
       "      <td>Yemen</td>\n",
       "      <td>The Republic of Yemen</td>\n",
       "      <td>UN member</td>\n",
       "      <td>YE</td>\n",
       "      <td>YEM</td>\n",
       "      <td>887</td>\n",
       "      <td>ISO 3166-2:YE</td>\n",
       "      <td>.ye</td>\n",
       "      <td>YE</td>\n",
       "      <td>31888698</td>\n",
       "    </tr>\n",
       "    <tr>\n",
       "      <th>153</th>\n",
       "      <td>Zambia</td>\n",
       "      <td>The Republic of Zambia</td>\n",
       "      <td>UN member</td>\n",
       "      <td>ZM</td>\n",
       "      <td>ZMB</td>\n",
       "      <td>894</td>\n",
       "      <td>ISO 3166-2:ZM</td>\n",
       "      <td>.zm</td>\n",
       "      <td>ZM</td>\n",
       "      <td>19610769</td>\n",
       "    </tr>\n",
       "    <tr>\n",
       "      <th>154</th>\n",
       "      <td>Zimbabwe</td>\n",
       "      <td>The Republic of Zimbabwe</td>\n",
       "      <td>UN member</td>\n",
       "      <td>ZW</td>\n",
       "      <td>ZWE</td>\n",
       "      <td>716</td>\n",
       "      <td>ISO 3166-2:ZW</td>\n",
       "      <td>.zw</td>\n",
       "      <td>ZW</td>\n",
       "      <td>15178979</td>\n",
       "    </tr>\n",
       "  </tbody>\n",
       "</table>\n",
       "<p>155 rows × 10 columns</p>\n",
       "</div>"
      ],
      "text/plain": [
       "         Country                               World Factbook Sovereignty A-2  \\\n",
       "0    Afghanistan          The Islamic Republic of Afghanistan   UN member  AF   \n",
       "1        Albania                      The Republic of Albania   UN member  AL   \n",
       "2        Algeria  The People's Democratic Republic of Algeria   UN member  DZ   \n",
       "3        Andorra                  The Principality of Andorra   UN member  AD   \n",
       "4         Angola                       The Republic of Angola   UN member  AO   \n",
       "..           ...                                          ...         ...  ..   \n",
       "150   Uzbekistan                   The Republic of Uzbekistan   UN member  UZ   \n",
       "151      Vanuatu                      The Republic of Vanuatu   UN member  VU   \n",
       "152        Yemen                        The Republic of Yemen   UN member  YE   \n",
       "153       Zambia                       The Republic of Zambia   UN member  ZM   \n",
       "154     Zimbabwe                     The Republic of Zimbabwe   UN member  ZW   \n",
       "\n",
       "     A-3 Num. Subdivision code links  TLD  \\\n",
       "0    AFG  004          ISO 3166-2:AF  .af   \n",
       "1    ALB  008          ISO 3166-2:AL  .al   \n",
       "2    DZA  012          ISO 3166-2:DZ  .dz   \n",
       "3    AND  020          ISO 3166-2:AD  .ad   \n",
       "4    AGO  024          ISO 3166-2:AO  .ao   \n",
       "..   ...  ...                    ...  ...   \n",
       "150  UZB  860          ISO 3166-2:UZ  .uz   \n",
       "151  VUT  548          ISO 3166-2:VU  .vu   \n",
       "152  YEM  887          ISO 3166-2:YE  .ye   \n",
       "153  ZMB  894          ISO 3166-2:ZM  .zm   \n",
       "154  ZWE  716          ISO 3166-2:ZW  .zw   \n",
       "\n",
       "                                 Alpha-2 code original  Population  \n",
       "0    .mw-parser-output .monospaced{font-family:mono...    34262840  \n",
       "1                                                   AL     2761785  \n",
       "2                                                   DZ    45400000  \n",
       "3                                                   AD       85101  \n",
       "4                                                   AO    34094077  \n",
       "..                                                 ...         ...  \n",
       "150                                                 UZ    36599764  \n",
       "151                                                 VU      301295  \n",
       "152                                                 YE    31888698  \n",
       "153                                                 ZM    19610769  \n",
       "154                                                 ZW    15178979  \n",
       "\n",
       "[155 rows x 10 columns]"
      ]
     },
     "execution_count": 42,
     "metadata": {},
     "output_type": "execute_result"
    }
   ],
   "source": [
    "merged = isocodes.merge(pop, left_on='Country', right_on='Country')\n",
    "merged"
   ]
  },
  {
   "cell_type": "markdown",
   "metadata": {
    "cell_id": "fad01c6f60a545c1bf2ab647344fbee9",
    "deepnote_app_block_visible": true,
    "deepnote_cell_type": "markdown",
    "slideshow": {
     "slide_type": "slide"
    },
    "tags": [],
    "user_expressions": []
   },
   "source": [
    "<div class=\"alert alert-block alert-warning\">\n",
    "<b>Exercise 3:</b> Merge the dataframes we have created so far to have a unique dataframe that has ISO codes, GDP per capita, and population data.\n",
    "</div>"
   ]
  },
  {
   "cell_type": "code",
   "execution_count": null,
   "metadata": {
    "cell_id": "7387b2dce900418f81a758880f641ae7",
    "deepnote_app_block_visible": true,
    "deepnote_cell_type": "code",
    "deepnote_to_be_reexecuted": false,
    "execution_millis": 252,
    "execution_start": 1711345986475,
    "slideshow": {
     "slide_type": "subslide"
    },
    "source_hash": null,
    "tags": []
   },
   "outputs": [],
   "source": [
    "url = 'https://en.wikipedia.org/wiki/List_of_countries_by_GDP_(PPP)_per_capita'\n",
    "IFrame(url, width=800, height=400)\n",
    "gdppc_wiki = pd.read_html(url, encoding='utf-8')[1]\n",
    "gdppc_wiki\n",
    "gdppc_wiki.columns = ['Country/Territory', 'UN Region', 'gdppc_IMF', 'year_IMF',\n",
    "                      'gdppc_WB', 'year_WB', 'gdppc_CIA', 'year_CIA']\n",
    "gdppc_wiki.head()\n",
    "gdppc_wiki['country_name'] = gdppc_wiki['Country/Territory'].str.replace('*', '', regex=True).str.strip()\n",
    "gdppc_wiki.head()\n",
    "gdppc_wiki.dtypes\n",
    "for c in gdppc_wiki.columns[2:-1]:\n",
    "    if gdppc_wiki[c].dtype=='O':\n",
    "        gdppc_wiki[c] = pd.to_numeric(gdppc_wiki[c].str.replace('—', 'nan'), errors='coerce')\n",
    "        if c.startswith('year'):\n",
    "            gdppc_wiki[c] = gdppc_wiki[c].astype('Int64')"
   ]
  },
  {
   "cell_type": "code",
   "execution_count": null,
   "metadata": {
    "cell_id": "b700f8f308c746a591d2a4c898e54155",
    "deepnote_app_block_visible": true,
    "deepnote_cell_type": "code",
    "deepnote_to_be_reexecuted": false,
    "execution_millis": 183,
    "execution_start": 1711346204090,
    "slideshow": {
     "slide_type": "subslide"
    },
    "source_hash": null,
    "tags": []
   },
   "outputs": [
    {
     "data": {
      "application/vnd.deepnote.dataframe.v3+json": {
       "column_count": 19,
       "columns": [
        {
         "dtype": "object",
         "name": "Country",
         "stats": {
          "categories": [
           {
            "count": 1,
            "name": "Afghanistan"
           },
           {
            "count": 1,
            "name": "Albania"
           },
           {
            "count": 153,
            "name": "153 others"
           }
          ],
          "nan_count": 0,
          "unique_count": 155
         }
        },
        {
         "dtype": "object",
         "name": "World Factbook",
         "stats": {
          "categories": [
           {
            "count": 1,
            "name": "The Islamic Republic of Afghanistan"
           },
           {
            "count": 1,
            "name": "The Republic of Albania"
           },
           {
            "count": 153,
            "name": "153 others"
           }
          ],
          "nan_count": 0,
          "unique_count": 155
         }
        },
        {
         "dtype": "object",
         "name": "Sovereignty",
         "stats": {
          "categories": [
           {
            "count": 154,
            "name": "UN member"
           },
           {
            "count": 1,
            "name": "New Zealand"
           }
          ],
          "nan_count": 0,
          "unique_count": 2
         }
        },
        {
         "dtype": "object",
         "name": "A-2",
         "stats": {
          "categories": [
           {
            "count": 1,
            "name": "AF"
           },
           {
            "count": 1,
            "name": "AL"
           },
           {
            "count": 153,
            "name": "153 others"
           }
          ],
          "nan_count": 0,
          "unique_count": 155
         }
        },
        {
         "dtype": "object",
         "name": "A-3",
         "stats": {
          "categories": [
           {
            "count": 1,
            "name": "AFG"
           },
           {
            "count": 1,
            "name": "ALB"
           },
           {
            "count": 153,
            "name": "153 others"
           }
          ],
          "nan_count": 0,
          "unique_count": 155
         }
        },
        {
         "dtype": "object",
         "name": "Num.",
         "stats": {
          "categories": [
           {
            "count": 1,
            "name": "004"
           },
           {
            "count": 1,
            "name": "008"
           },
           {
            "count": 153,
            "name": "153 others"
           }
          ],
          "nan_count": 0,
          "unique_count": 155
         }
        },
        {
         "dtype": "object",
         "name": "Subdivision code links",
         "stats": {
          "categories": [
           {
            "count": 1,
            "name": "ISO 3166-2:AF"
           },
           {
            "count": 1,
            "name": "ISO 3166-2:AL"
           },
           {
            "count": 153,
            "name": "153 others"
           }
          ],
          "nan_count": 0,
          "unique_count": 155
         }
        },
        {
         "dtype": "object",
         "name": "TLD",
         "stats": {
          "categories": [
           {
            "count": 1,
            "name": ".af"
           },
           {
            "count": 1,
            "name": ".al"
           },
           {
            "count": 153,
            "name": "153 others"
           }
          ],
          "nan_count": 0,
          "unique_count": 155
         }
        },
        {
         "dtype": "object",
         "name": "Alpha-2 code original",
         "stats": {
          "categories": [
           {
            "count": 1,
            "name": ".mw-parser-output .monospaced{font-family:monospace,monospace}AF"
           },
           {
            "count": 153,
            "name": "153 others"
           },
           {
            "count": 1,
            "name": "Missing"
           }
          ],
          "nan_count": 1,
          "unique_count": 154
         }
        },
        {
         "dtype": "int64",
         "name": "Population",
         "stats": {
          "histogram": [
           {
            "bin_end": 140968520.1,
            "bin_start": 1689,
            "count": 148
           },
           {
            "bin_end": 281935351.2,
            "bin_start": 140968520.1,
            "count": 5
           },
           {
            "bin_end": 422902182.29999995,
            "bin_start": 281935351.2,
            "count": 0
           },
           {
            "bin_end": 563869013.4,
            "bin_start": 422902182.29999995,
            "count": 0
           },
           {
            "bin_end": 704835844.5,
            "bin_start": 563869013.4,
            "count": 0
           },
           {
            "bin_end": 845802675.5999999,
            "bin_start": 704835844.5,
            "count": 0
           },
           {
            "bin_end": 986769506.6999999,
            "bin_start": 845802675.5999999,
            "count": 0
           },
           {
            "bin_end": 1127736337.8,
            "bin_start": 986769506.6999999,
            "count": 0
           },
           {
            "bin_end": 1268703168.8999999,
            "bin_start": 1127736337.8,
            "count": 0
           },
           {
            "bin_end": 1409670000,
            "bin_start": 1268703168.8999999,
            "count": 2
           }
          ],
          "max": "1409670000",
          "min": "1689",
          "nan_count": 0,
          "unique_count": 155
         }
        },
        {
         "dtype": "object",
         "name": "Country/Territory",
         "stats": {
          "categories": [
           {
            "count": 1,
            "name": "Afghanistan *"
           },
           {
            "count": 1,
            "name": "Albania *"
           },
           {
            "count": 153,
            "name": "153 others"
           }
          ],
          "nan_count": 0,
          "unique_count": 155
         }
        },
        {
         "dtype": "object",
         "name": "UN Region",
         "stats": {
          "categories": [
           {
            "count": 42,
            "name": "Africa"
           },
           {
            "count": 36,
            "name": "Europe"
           },
           {
            "count": 77,
            "name": "3 others"
           }
          ],
          "nan_count": 0,
          "unique_count": 5
         }
        },
        {
         "dtype": "float64",
         "name": "gdppc_IMF",
         "stats": {
          "histogram": [
           {
            "bin_end": 14758.8,
            "bin_start": 476,
            "count": 66
           },
           {
            "bin_end": 29041.6,
            "bin_start": 14758.8,
            "count": 35
           },
           {
            "bin_end": 43324.399999999994,
            "bin_start": 29041.6,
            "count": 16
           },
           {
            "bin_end": 57607.2,
            "bin_start": 43324.399999999994,
            "count": 13
           },
           {
            "bin_end": 71890,
            "bin_start": 57607.2,
            "count": 12
           },
           {
            "bin_end": 86172.79999999999,
            "bin_start": 71890,
            "count": 3
           },
           {
            "bin_end": 100455.59999999999,
            "bin_start": 86172.79999999999,
            "count": 1
           },
           {
            "bin_end": 114738.4,
            "bin_start": 100455.59999999999,
            "count": 1
           },
           {
            "bin_end": 129021.2,
            "bin_start": 114738.4,
            "count": 0
           },
           {
            "bin_end": 143304,
            "bin_start": 129021.2,
            "count": 3
           }
          ],
          "max": "143304.0",
          "min": "476.0",
          "nan_count": 5,
          "unique_count": 150
         }
        },
        {
         "dtype": "Int64",
         "name": "year_IMF",
         "stats": {
          "categories": [
           {
            "count": 143,
            "name": "2023"
           },
           {
            "count": 3,
            "name": "2 others"
           },
           {
            "count": 9,
            "name": "Missing"
           }
          ],
          "nan_count": 9,
          "unique_count": 3
         }
        },
        {
         "dtype": "float64",
         "name": "gdppc_WB",
         "stats": {
          "histogram": [
           {
            "bin_end": 14973.8,
            "bin_start": 836,
            "count": 70
           },
           {
            "bin_end": 29111.6,
            "bin_start": 14973.8,
            "count": 35
           },
           {
            "bin_end": 43249.399999999994,
            "bin_start": 29111.6,
            "count": 16
           },
           {
            "bin_end": 57387.2,
            "bin_start": 43249.399999999994,
            "count": 11
           },
           {
            "bin_end": 71525,
            "bin_start": 57387.2,
            "count": 11
           },
           {
            "bin_end": 85662.79999999999,
            "bin_start": 71525,
            "count": 2
           },
           {
            "bin_end": 99800.59999999999,
            "bin_start": 85662.79999999999,
            "count": 0
           },
           {
            "bin_end": 113938.4,
            "bin_start": 99800.59999999999,
            "count": 0
           },
           {
            "bin_end": 128076.2,
            "bin_start": 113938.4,
            "count": 4
           },
           {
            "bin_end": 142214,
            "bin_start": 128076.2,
            "count": 1
           }
          ],
          "max": "142214.0",
          "min": "836.0",
          "nan_count": 5,
          "unique_count": 150
         }
        },
        {
         "dtype": "Int64",
         "name": "year_WB",
         "stats": {
          "categories": [
           {
            "count": 136,
            "name": "2022"
           },
           {
            "count": 10,
            "name": "6 others"
           },
           {
            "count": 9,
            "name": "Missing"
           }
          ],
          "nan_count": 9,
          "unique_count": 7
         }
        },
        {
         "dtype": "int64",
         "name": "gdppc_CIA",
         "stats": {
          "histogram": [
           {
            "bin_end": 14540,
            "bin_start": 700,
            "count": 86
           },
           {
            "bin_end": 28380,
            "bin_start": 14540,
            "count": 27
           },
           {
            "bin_end": 42220,
            "bin_start": 28380,
            "count": 19
           },
           {
            "bin_end": 56060,
            "bin_start": 42220,
            "count": 13
           },
           {
            "bin_end": 69900,
            "bin_start": 56060,
            "count": 3
           },
           {
            "bin_end": 83740,
            "bin_start": 69900,
            "count": 1
           },
           {
            "bin_end": 97580,
            "bin_start": 83740,
            "count": 1
           },
           {
            "bin_end": 111420,
            "bin_start": 97580,
            "count": 2
           },
           {
            "bin_end": 125260,
            "bin_start": 111420,
            "count": 2
           },
           {
            "bin_end": 139100,
            "bin_start": 125260,
            "count": 1
           }
          ],
          "max": "139100",
          "min": "700",
          "nan_count": 0,
          "unique_count": 125
         }
        },
        {
         "dtype": "Int64",
         "name": "year_CIA",
         "stats": {
          "categories": [
           {
            "count": 135,
            "name": "2021"
           },
           {
            "count": 15,
            "name": "8 others"
           },
           {
            "count": 5,
            "name": "Missing"
           }
          ],
          "nan_count": 5,
          "unique_count": 9
         }
        },
        {
         "dtype": "object",
         "name": "country_name",
         "stats": {
          "categories": [
           {
            "count": 1,
            "name": "Afghanistan"
           },
           {
            "count": 1,
            "name": "Albania"
           },
           {
            "count": 153,
            "name": "153 others"
           }
          ],
          "nan_count": 0,
          "unique_count": 155
         }
        },
        {
         "dtype": "int64",
         "name": "_deepnote_index_column"
        }
       ],
       "row_count": 155,
       "rows": [
        {
         "A-2": "AF",
         "A-3": "AFG",
         "Alpha-2 code original": ".mw-parser-output .monospaced{font-family:monospace,monospace}AF",
         "Country": "Afghanistan",
         "Country/Territory": "Afghanistan *",
         "Num.": "004",
         "Population": 34262840,
         "Sovereignty": "UN member",
         "Subdivision code links": "ISO 3166-2:AF",
         "TLD": ".af",
         "UN Region": "Asia",
         "World Factbook": "The Islamic Republic of Afghanistan",
         "_deepnote_index_column": 0,
         "country_name": "Afghanistan",
         "gdppc_CIA": 1500,
         "gdppc_IMF": 1991,
         "gdppc_WB": 1674,
         "year_CIA": "2021",
         "year_IMF": "2021",
         "year_WB": "2021"
        },
        {
         "A-2": "AL",
         "A-3": "ALB",
         "Alpha-2 code original": "AL",
         "Country": "Albania",
         "Country/Territory": "Albania *",
         "Num.": "008",
         "Population": 2761785,
         "Sovereignty": "UN member",
         "Subdivision code links": "ISO 3166-2:AL",
         "TLD": ".al",
         "UN Region": "Europe",
         "World Factbook": "The Republic of Albania",
         "_deepnote_index_column": 1,
         "country_name": "Albania",
         "gdppc_CIA": 14500,
         "gdppc_IMF": 19566,
         "gdppc_WB": 18552,
         "year_CIA": "2021",
         "year_IMF": "2023",
         "year_WB": "2022"
        },
        {
         "A-2": "DZ",
         "A-3": "DZA",
         "Alpha-2 code original": "DZ",
         "Country": "Algeria",
         "Country/Territory": "Algeria *",
         "Num.": "012",
         "Population": 45400000,
         "Sovereignty": "UN member",
         "Subdivision code links": "ISO 3166-2:DZ",
         "TLD": ".dz",
         "UN Region": "Africa",
         "World Factbook": "The People's Democratic Republic of Algeria",
         "_deepnote_index_column": 2,
         "country_name": "Algeria",
         "gdppc_CIA": 11000,
         "gdppc_IMF": 13682,
         "gdppc_WB": 13210,
         "year_CIA": "2021",
         "year_IMF": "2023",
         "year_WB": "2022"
        },
        {
         "A-2": "AD",
         "A-3": "AND",
         "Alpha-2 code original": "AD",
         "Country": "Andorra",
         "Country/Territory": "Andorra *",
         "Num.": "020",
         "Population": 85101,
         "Sovereignty": "UN member",
         "Subdivision code links": "ISO 3166-2:AD",
         "TLD": ".ad",
         "UN Region": "Europe",
         "World Factbook": "The Principality of Andorra",
         "_deepnote_index_column": 3,
         "country_name": "Andorra",
         "gdppc_CIA": 49900,
         "gdppc_IMF": 68232,
         "gdppc_WB": "nan",
         "year_CIA": "2015",
         "year_IMF": "2023",
         "year_WB": "<NA>"
        },
        {
         "A-2": "AO",
         "A-3": "AGO",
         "Alpha-2 code original": "AO",
         "Country": "Angola",
         "Country/Territory": "Angola *",
         "Num.": "024",
         "Population": 34094077,
         "Sovereignty": "UN member",
         "Subdivision code links": "ISO 3166-2:AO",
         "TLD": ".ao",
         "UN Region": "Africa",
         "World Factbook": "The Republic of Angola",
         "_deepnote_index_column": 4,
         "country_name": "Angola",
         "gdppc_CIA": 5900,
         "gdppc_IMF": 7077,
         "gdppc_WB": 6974,
         "year_CIA": "2021",
         "year_IMF": "2023",
         "year_WB": "2022"
        },
        {
         "A-2": "AG",
         "A-3": "ATG",
         "Alpha-2 code original": "AG",
         "Country": "Antigua and Barbuda",
         "Country/Territory": "Antigua and Barbuda *",
         "Num.": "028",
         "Population": 100772,
         "Sovereignty": "UN member",
         "Subdivision code links": "ISO 3166-2:AG",
         "TLD": ".ag",
         "UN Region": "Americas",
         "World Factbook": "Antigua and Barbuda",
         "_deepnote_index_column": 5,
         "country_name": "Antigua and Barbuda",
         "gdppc_CIA": 19100,
         "gdppc_IMF": 25449,
         "gdppc_WB": 25337,
         "year_CIA": "2021",
         "year_IMF": "2023",
         "year_WB": "2022"
        },
        {
         "A-2": "AR",
         "A-3": "ARG",
         "Alpha-2 code original": "AR",
         "Country": "Argentina",
         "Country/Territory": "Argentina *",
         "Num.": "032",
         "Population": 46654581,
         "Sovereignty": "UN member",
         "Subdivision code links": "ISO 3166-2:AR",
         "TLD": ".ar",
         "UN Region": "Americas",
         "World Factbook": "The Argentine Republic",
         "_deepnote_index_column": 6,
         "country_name": "Argentina",
         "gdppc_CIA": 21500,
         "gdppc_IMF": 26506,
         "gdppc_WB": 26505,
         "year_CIA": "2021",
         "year_IMF": "2023",
         "year_WB": "2022"
        },
        {
         "A-2": "AM",
         "A-3": "ARM",
         "Alpha-2 code original": "AM",
         "Country": "Armenia",
         "Country/Territory": "Armenia *",
         "Num.": "051",
         "Population": 2981200,
         "Sovereignty": "UN member",
         "Subdivision code links": "ISO 3166-2:AM",
         "TLD": ".am",
         "UN Region": "Asia",
         "World Factbook": "The Republic of Armenia",
         "_deepnote_index_column": 7,
         "country_name": "Armenia",
         "gdppc_CIA": 14200,
         "gdppc_IMF": 19745,
         "gdppc_WB": 18942,
         "year_CIA": "2021",
         "year_IMF": "2023",
         "year_WB": "2022"
        },
        {
         "A-2": "AT",
         "A-3": "AUT",
         "Alpha-2 code original": "AT",
         "Country": "Austria",
         "Country/Territory": "Austria *",
         "Num.": "040",
         "Population": 9159993,
         "Sovereignty": "UN member",
         "Subdivision code links": "ISO 3166-2:AT",
         "TLD": ".at",
         "UN Region": "Europe",
         "World Factbook": "The Republic of Austria",
         "_deepnote_index_column": 8,
         "country_name": "Austria",
         "gdppc_CIA": 54100,
         "gdppc_IMF": 69069,
         "gdppc_WB": 67936,
         "year_CIA": "2021",
         "year_IMF": "2023",
         "year_WB": "2022"
        },
        {
         "A-2": "AZ",
         "A-3": "AZE",
         "Alpha-2 code original": "AZ",
         "Country": "Azerbaijan",
         "Country/Territory": "Azerbaijan *",
         "Num.": "031",
         "Population": 10151517,
         "Sovereignty": "UN member",
         "Subdivision code links": "ISO 3166-2:AZ",
         "TLD": ".az",
         "UN Region": "Asia",
         "World Factbook": "The Republic of Azerbaijan",
         "_deepnote_index_column": 9,
         "country_name": "Azerbaijan",
         "gdppc_CIA": 14400,
         "gdppc_IMF": 18694,
         "gdppc_WB": 17764,
         "year_CIA": "2021",
         "year_IMF": "2023",
         "year_WB": "2022"
        }
       ]
      },
      "text/html": [
       "<div>\n",
       "<style scoped>\n",
       "    .dataframe tbody tr th:only-of-type {\n",
       "        vertical-align: middle;\n",
       "    }\n",
       "\n",
       "    .dataframe tbody tr th {\n",
       "        vertical-align: top;\n",
       "    }\n",
       "\n",
       "    .dataframe thead th {\n",
       "        text-align: right;\n",
       "    }\n",
       "</style>\n",
       "<table border=\"1\" class=\"dataframe\">\n",
       "  <thead>\n",
       "    <tr style=\"text-align: right;\">\n",
       "      <th></th>\n",
       "      <th>Country</th>\n",
       "      <th>World Factbook</th>\n",
       "      <th>Sovereignty</th>\n",
       "      <th>A-2</th>\n",
       "      <th>A-3</th>\n",
       "      <th>Num.</th>\n",
       "      <th>Subdivision code links</th>\n",
       "      <th>TLD</th>\n",
       "      <th>Alpha-2 code original</th>\n",
       "      <th>Population</th>\n",
       "      <th>Country/Territory</th>\n",
       "      <th>UN Region</th>\n",
       "      <th>gdppc_IMF</th>\n",
       "      <th>year_IMF</th>\n",
       "      <th>gdppc_WB</th>\n",
       "      <th>year_WB</th>\n",
       "      <th>gdppc_CIA</th>\n",
       "      <th>year_CIA</th>\n",
       "      <th>country_name</th>\n",
       "    </tr>\n",
       "  </thead>\n",
       "  <tbody>\n",
       "    <tr>\n",
       "      <th>0</th>\n",
       "      <td>Afghanistan</td>\n",
       "      <td>The Islamic Republic of Afghanistan</td>\n",
       "      <td>UN member</td>\n",
       "      <td>AF</td>\n",
       "      <td>AFG</td>\n",
       "      <td>004</td>\n",
       "      <td>ISO 3166-2:AF</td>\n",
       "      <td>.af</td>\n",
       "      <td>.mw-parser-output .monospaced{font-family:mono...</td>\n",
       "      <td>34262840</td>\n",
       "      <td>Afghanistan *</td>\n",
       "      <td>Asia</td>\n",
       "      <td>1991.0</td>\n",
       "      <td>2021</td>\n",
       "      <td>1674.0</td>\n",
       "      <td>2021</td>\n",
       "      <td>1500</td>\n",
       "      <td>2021</td>\n",
       "      <td>Afghanistan</td>\n",
       "    </tr>\n",
       "    <tr>\n",
       "      <th>1</th>\n",
       "      <td>Albania</td>\n",
       "      <td>The Republic of Albania</td>\n",
       "      <td>UN member</td>\n",
       "      <td>AL</td>\n",
       "      <td>ALB</td>\n",
       "      <td>008</td>\n",
       "      <td>ISO 3166-2:AL</td>\n",
       "      <td>.al</td>\n",
       "      <td>AL</td>\n",
       "      <td>2761785</td>\n",
       "      <td>Albania *</td>\n",
       "      <td>Europe</td>\n",
       "      <td>19566.0</td>\n",
       "      <td>2023</td>\n",
       "      <td>18552.0</td>\n",
       "      <td>2022</td>\n",
       "      <td>14500</td>\n",
       "      <td>2021</td>\n",
       "      <td>Albania</td>\n",
       "    </tr>\n",
       "    <tr>\n",
       "      <th>2</th>\n",
       "      <td>Algeria</td>\n",
       "      <td>The People's Democratic Republic of Algeria</td>\n",
       "      <td>UN member</td>\n",
       "      <td>DZ</td>\n",
       "      <td>DZA</td>\n",
       "      <td>012</td>\n",
       "      <td>ISO 3166-2:DZ</td>\n",
       "      <td>.dz</td>\n",
       "      <td>DZ</td>\n",
       "      <td>45400000</td>\n",
       "      <td>Algeria *</td>\n",
       "      <td>Africa</td>\n",
       "      <td>13682.0</td>\n",
       "      <td>2023</td>\n",
       "      <td>13210.0</td>\n",
       "      <td>2022</td>\n",
       "      <td>11000</td>\n",
       "      <td>2021</td>\n",
       "      <td>Algeria</td>\n",
       "    </tr>\n",
       "    <tr>\n",
       "      <th>3</th>\n",
       "      <td>Andorra</td>\n",
       "      <td>The Principality of Andorra</td>\n",
       "      <td>UN member</td>\n",
       "      <td>AD</td>\n",
       "      <td>AND</td>\n",
       "      <td>020</td>\n",
       "      <td>ISO 3166-2:AD</td>\n",
       "      <td>.ad</td>\n",
       "      <td>AD</td>\n",
       "      <td>85101</td>\n",
       "      <td>Andorra *</td>\n",
       "      <td>Europe</td>\n",
       "      <td>68232.0</td>\n",
       "      <td>2023</td>\n",
       "      <td>NaN</td>\n",
       "      <td>&lt;NA&gt;</td>\n",
       "      <td>49900</td>\n",
       "      <td>2015</td>\n",
       "      <td>Andorra</td>\n",
       "    </tr>\n",
       "    <tr>\n",
       "      <th>4</th>\n",
       "      <td>Angola</td>\n",
       "      <td>The Republic of Angola</td>\n",
       "      <td>UN member</td>\n",
       "      <td>AO</td>\n",
       "      <td>AGO</td>\n",
       "      <td>024</td>\n",
       "      <td>ISO 3166-2:AO</td>\n",
       "      <td>.ao</td>\n",
       "      <td>AO</td>\n",
       "      <td>34094077</td>\n",
       "      <td>Angola *</td>\n",
       "      <td>Africa</td>\n",
       "      <td>7077.0</td>\n",
       "      <td>2023</td>\n",
       "      <td>6974.0</td>\n",
       "      <td>2022</td>\n",
       "      <td>5900</td>\n",
       "      <td>2021</td>\n",
       "      <td>Angola</td>\n",
       "    </tr>\n",
       "    <tr>\n",
       "      <th>...</th>\n",
       "      <td>...</td>\n",
       "      <td>...</td>\n",
       "      <td>...</td>\n",
       "      <td>...</td>\n",
       "      <td>...</td>\n",
       "      <td>...</td>\n",
       "      <td>...</td>\n",
       "      <td>...</td>\n",
       "      <td>...</td>\n",
       "      <td>...</td>\n",
       "      <td>...</td>\n",
       "      <td>...</td>\n",
       "      <td>...</td>\n",
       "      <td>...</td>\n",
       "      <td>...</td>\n",
       "      <td>...</td>\n",
       "      <td>...</td>\n",
       "      <td>...</td>\n",
       "      <td>...</td>\n",
       "    </tr>\n",
       "    <tr>\n",
       "      <th>150</th>\n",
       "      <td>Uzbekistan</td>\n",
       "      <td>The Republic of Uzbekistan</td>\n",
       "      <td>UN member</td>\n",
       "      <td>UZ</td>\n",
       "      <td>UZB</td>\n",
       "      <td>860</td>\n",
       "      <td>ISO 3166-2:UZ</td>\n",
       "      <td>.uz</td>\n",
       "      <td>UZ</td>\n",
       "      <td>36599764</td>\n",
       "      <td>Uzbekistan *</td>\n",
       "      <td>Asia</td>\n",
       "      <td>10316.0</td>\n",
       "      <td>2023</td>\n",
       "      <td>9533.0</td>\n",
       "      <td>2022</td>\n",
       "      <td>7700</td>\n",
       "      <td>2021</td>\n",
       "      <td>Uzbekistan</td>\n",
       "    </tr>\n",
       "    <tr>\n",
       "      <th>151</th>\n",
       "      <td>Vanuatu</td>\n",
       "      <td>The Republic of Vanuatu</td>\n",
       "      <td>UN member</td>\n",
       "      <td>VU</td>\n",
       "      <td>VUT</td>\n",
       "      <td>548</td>\n",
       "      <td>ISO 3166-2:VU</td>\n",
       "      <td>.vu</td>\n",
       "      <td>VU</td>\n",
       "      <td>301295</td>\n",
       "      <td>Vanuatu *</td>\n",
       "      <td>Oceania</td>\n",
       "      <td>2940.0</td>\n",
       "      <td>2023</td>\n",
       "      <td>3289.0</td>\n",
       "      <td>2022</td>\n",
       "      <td>2800</td>\n",
       "      <td>2021</td>\n",
       "      <td>Vanuatu</td>\n",
       "    </tr>\n",
       "    <tr>\n",
       "      <th>152</th>\n",
       "      <td>Yemen</td>\n",
       "      <td>The Republic of Yemen</td>\n",
       "      <td>UN member</td>\n",
       "      <td>YE</td>\n",
       "      <td>YEM</td>\n",
       "      <td>887</td>\n",
       "      <td>ISO 3166-2:YE</td>\n",
       "      <td>.ye</td>\n",
       "      <td>YE</td>\n",
       "      <td>31888698</td>\n",
       "      <td>Yemen *</td>\n",
       "      <td>Asia</td>\n",
       "      <td>2053.0</td>\n",
       "      <td>2023</td>\n",
       "      <td>3437.0</td>\n",
       "      <td>2013</td>\n",
       "      <td>2500</td>\n",
       "      <td>2017</td>\n",
       "      <td>Yemen</td>\n",
       "    </tr>\n",
       "    <tr>\n",
       "      <th>153</th>\n",
       "      <td>Zambia</td>\n",
       "      <td>The Republic of Zambia</td>\n",
       "      <td>UN member</td>\n",
       "      <td>ZM</td>\n",
       "      <td>ZMB</td>\n",
       "      <td>894</td>\n",
       "      <td>ISO 3166-2:ZM</td>\n",
       "      <td>.zm</td>\n",
       "      <td>ZM</td>\n",
       "      <td>19610769</td>\n",
       "      <td>Zambia *</td>\n",
       "      <td>Africa</td>\n",
       "      <td>4068.0</td>\n",
       "      <td>2023</td>\n",
       "      <td>3894.0</td>\n",
       "      <td>2022</td>\n",
       "      <td>3200</td>\n",
       "      <td>2021</td>\n",
       "      <td>Zambia</td>\n",
       "    </tr>\n",
       "    <tr>\n",
       "      <th>154</th>\n",
       "      <td>Zimbabwe</td>\n",
       "      <td>The Republic of Zimbabwe</td>\n",
       "      <td>UN member</td>\n",
       "      <td>ZW</td>\n",
       "      <td>ZWE</td>\n",
       "      <td>716</td>\n",
       "      <td>ISO 3166-2:ZW</td>\n",
       "      <td>.zw</td>\n",
       "      <td>ZW</td>\n",
       "      <td>15178979</td>\n",
       "      <td>Zimbabwe *</td>\n",
       "      <td>Africa</td>\n",
       "      <td>2750.0</td>\n",
       "      <td>2023</td>\n",
       "      <td>2531.0</td>\n",
       "      <td>2022</td>\n",
       "      <td>2100</td>\n",
       "      <td>2021</td>\n",
       "      <td>Zimbabwe</td>\n",
       "    </tr>\n",
       "  </tbody>\n",
       "</table>\n",
       "<p>155 rows × 19 columns</p>\n",
       "</div>"
      ],
      "text/plain": [
       "         Country                               World Factbook Sovereignty A-2  \\\n",
       "0    Afghanistan          The Islamic Republic of Afghanistan   UN member  AF   \n",
       "1        Albania                      The Republic of Albania   UN member  AL   \n",
       "2        Algeria  The People's Democratic Republic of Algeria   UN member  DZ   \n",
       "3        Andorra                  The Principality of Andorra   UN member  AD   \n",
       "4         Angola                       The Republic of Angola   UN member  AO   \n",
       "..           ...                                          ...         ...  ..   \n",
       "150   Uzbekistan                   The Republic of Uzbekistan   UN member  UZ   \n",
       "151      Vanuatu                      The Republic of Vanuatu   UN member  VU   \n",
       "152        Yemen                        The Republic of Yemen   UN member  YE   \n",
       "153       Zambia                       The Republic of Zambia   UN member  ZM   \n",
       "154     Zimbabwe                     The Republic of Zimbabwe   UN member  ZW   \n",
       "\n",
       "     A-3 Num. Subdivision code links  TLD  \\\n",
       "0    AFG  004          ISO 3166-2:AF  .af   \n",
       "1    ALB  008          ISO 3166-2:AL  .al   \n",
       "2    DZA  012          ISO 3166-2:DZ  .dz   \n",
       "3    AND  020          ISO 3166-2:AD  .ad   \n",
       "4    AGO  024          ISO 3166-2:AO  .ao   \n",
       "..   ...  ...                    ...  ...   \n",
       "150  UZB  860          ISO 3166-2:UZ  .uz   \n",
       "151  VUT  548          ISO 3166-2:VU  .vu   \n",
       "152  YEM  887          ISO 3166-2:YE  .ye   \n",
       "153  ZMB  894          ISO 3166-2:ZM  .zm   \n",
       "154  ZWE  716          ISO 3166-2:ZW  .zw   \n",
       "\n",
       "                                 Alpha-2 code original  Population  \\\n",
       "0    .mw-parser-output .monospaced{font-family:mono...    34262840   \n",
       "1                                                   AL     2761785   \n",
       "2                                                   DZ    45400000   \n",
       "3                                                   AD       85101   \n",
       "4                                                   AO    34094077   \n",
       "..                                                 ...         ...   \n",
       "150                                                 UZ    36599764   \n",
       "151                                                 VU      301295   \n",
       "152                                                 YE    31888698   \n",
       "153                                                 ZM    19610769   \n",
       "154                                                 ZW    15178979   \n",
       "\n",
       "    Country/Territory UN Region  gdppc_IMF  year_IMF  gdppc_WB  year_WB  \\\n",
       "0       Afghanistan *      Asia     1991.0      2021    1674.0     2021   \n",
       "1           Albania *    Europe    19566.0      2023   18552.0     2022   \n",
       "2           Algeria *    Africa    13682.0      2023   13210.0     2022   \n",
       "3           Andorra *    Europe    68232.0      2023       NaN     <NA>   \n",
       "4            Angola *    Africa     7077.0      2023    6974.0     2022   \n",
       "..                ...       ...        ...       ...       ...      ...   \n",
       "150      Uzbekistan *      Asia    10316.0      2023    9533.0     2022   \n",
       "151         Vanuatu *   Oceania     2940.0      2023    3289.0     2022   \n",
       "152           Yemen *      Asia     2053.0      2023    3437.0     2013   \n",
       "153          Zambia *    Africa     4068.0      2023    3894.0     2022   \n",
       "154        Zimbabwe *    Africa     2750.0      2023    2531.0     2022   \n",
       "\n",
       "     gdppc_CIA  year_CIA country_name  \n",
       "0         1500      2021  Afghanistan  \n",
       "1        14500      2021      Albania  \n",
       "2        11000      2021      Algeria  \n",
       "3        49900      2015      Andorra  \n",
       "4         5900      2021       Angola  \n",
       "..         ...       ...          ...  \n",
       "150       7700      2021   Uzbekistan  \n",
       "151       2800      2021      Vanuatu  \n",
       "152       2500      2017        Yemen  \n",
       "153       3200      2021       Zambia  \n",
       "154       2100      2021     Zimbabwe  \n",
       "\n",
       "[155 rows x 19 columns]"
      ]
     },
     "execution_count": 45,
     "metadata": {},
     "output_type": "execute_result"
    }
   ],
   "source": [
    "merged2 = merged.merge(gdppc_wiki, left_on='Country', right_on='country_name')\n",
    "merged2"
   ]
  },
  {
   "cell_type": "markdown",
   "metadata": {
    "cell_id": "ec8bc2d458d74443ba3789f3c428e724",
    "deepnote_app_block_visible": true,
    "deepnote_cell_type": "markdown",
    "slideshow": {
     "slide_type": "slide"
    },
    "tags": [],
    "user_expressions": []
   },
   "source": [
    "<div class=\"alert alert-block alert-warning\">\n",
    "<b>Exercise 4:</b> Use the <code>os</code> package to create folders to export data and figures. \n",
    "Since you will be using the names of these folders a lot, save their names in variables called <code>path</code>, <code>pathout</code>, and <code>pathgraphs</code>, where <code>path = './data/'</code>, <code>pathout = './data/'</code>, and <code>pathgraphs = './graphs/'</code>\n",
    "</div>"
   ]
  },
  {
   "cell_type": "code",
   "execution_count": null,
   "metadata": {
    "cell_id": "737d1a3725fb4566b8a2d52d646aa504",
    "deepnote_app_block_visible": true,
    "deepnote_cell_type": "code",
    "deepnote_to_be_reexecuted": false,
    "execution_millis": 314,
    "execution_start": 1711346848868,
    "source_hash": null
   },
   "outputs": [],
   "source": [
    "import os\n",
    "\n",
    "# Define folder paths\n",
    "path = './data/'\n",
    "pathout = './data/'\n",
    "pathgraphs = './graphs/'\n",
    "\n",
    "# Create folders if they don't exist\n",
    "if not os.path.exists(path):\n",
    "    os.makedirs(path)\n",
    "\n",
    "if not os.path.exists(pathout):\n",
    "    os.makedirs(pathout)\n",
    "\n",
    "if not os.path.exists(pathgraphs):\n",
    "    os.makedirs(pathgraphs)\n"
   ]
  },
  {
   "cell_type": "markdown",
   "metadata": {
    "cell_id": "f5a7f566426f448ca412a5e6797fd126",
    "deepnote_app_block_visible": true,
    "deepnote_cell_type": "markdown",
    "slideshow": {
     "slide_type": "slide"
    },
    "tags": [],
    "user_expressions": []
   },
   "source": [
    "<div class=\"alert alert-block alert-warning\">\n",
    "    <b>Exercise 5:</b> Save the dataframe created in Exercise 3 as a <b>CSV, XLSX, and Stata</b> file into the <code>pathout</code> folder. Use a variable called <code>filename = 'Wiki_Data'</code> so you can use similar code to save all file types. Notice only the filetype will change. \n",
    "    <b>Hint:</b> If you get econding errors for Stata, use the keyword <code>version=118</code> inside the <code>to_stata</code> function.\n",
    "</div>"
   ]
  },
  {
   "cell_type": "code",
   "execution_count": null,
   "metadata": {
    "cell_id": "3503b7b0e4a94ef48f279ed1da1cd901",
    "deepnote_app_block_visible": true,
    "deepnote_cell_type": "code",
    "deepnote_to_be_reexecuted": false,
    "execution_millis": 816,
    "execution_start": 1711347326199,
    "slideshow": {
     "slide_type": "subslide"
    },
    "source_hash": null,
    "tags": []
   },
   "outputs": [],
   "source": [
    "filename = 'Wiki_Data'\n",
    "\n",
    "# Save as CSV\n",
    "csv_filename = os.path.join(pathout, filename + '.csv')\n",
    "pop.to_csv(csv_filename, index=False)\n",
    "\n",
    "# Save as XLSX\n",
    "xlsx_filename = os.path.join(pathout, filename + '.xlsx')\n",
    "pop.to_excel(xlsx_filename, index=False)\n",
    "\n",
    "# Save as Stata\n",
    "stata_filename = os.path.join(pathout, filename + '.dta')\n",
    "pop.to_stata(stata_filename, version=118)"
   ]
  },
  {
   "cell_type": "markdown",
   "metadata": {
    "cell_id": "6becb228ee8f4ab4b6e5923a16a22140",
    "deepnote_app_block_visible": true,
    "deepnote_cell_type": "markdown",
    "slideshow": {
     "slide_type": "slide"
    },
    "tags": [],
    "user_expressions": []
   },
   "source": [
    "<div class=\"alert alert-block alert-warning\">\n",
    "<b>Exercise 6:</b> Create plots showing the relation between GDP per capita and Population. Create all 4 types of possible regression plots (levels-levels, levels-logs, logs-levels, logs-logs) and save them as <b> PNG, PDF, and JPG</b> files. Make sure to save them in the folder you created for <b>graphs</b>\n",
    "</div>"
   ]
  },
  {
   "cell_type": "code",
   "execution_count": null,
   "metadata": {
    "cell_id": "c1c7080f8be740b89df48cb754d95bda",
    "deepnote_app_block_visible": true,
    "deepnote_cell_type": "code",
    "deepnote_to_be_reexecuted": false,
    "execution_millis": 309,
    "execution_start": 1711347628048,
    "slideshow": {
     "slide_type": "subslide"
    },
    "source_hash": null,
    "tags": []
   },
   "outputs": [],
   "source": [
    "import seaborn as sns\n",
    "import matplotlib.pyplot as plt"
   ]
  },
  {
   "cell_type": "code",
   "execution_count": null,
   "metadata": {
    "cell_id": "5d334771e9e84203a8aa0bd9905e6cce",
    "deepnote_app_block_visible": true,
    "deepnote_cell_type": "code",
    "deepnote_to_be_reexecuted": false,
    "execution_millis": 107,
    "execution_start": 1711347735434,
    "slideshow": {
     "slide_type": "subslide"
    },
    "source_hash": null,
    "tags": []
   },
   "outputs": [
    {
     "data": {
      "text/plain": [
       "Index(['Country', 'World Factbook', 'Sovereignty', 'A-2', 'A-3', 'Num.',\n",
       "       'Subdivision code links', 'TLD', 'Alpha-2 code original', 'Population',\n",
       "       'Country/Territory', 'UN Region', 'gdppc_IMF', 'year_IMF', 'gdppc_WB',\n",
       "       'year_WB', 'gdppc_CIA', 'year_CIA', 'country_name'],\n",
       "      dtype='object')"
      ]
     },
     "execution_count": 50,
     "metadata": {},
     "output_type": "execute_result"
    }
   ],
   "source": [
    "merged2.columns\n"
   ]
  },
  {
   "cell_type": "code",
   "execution_count": null,
   "metadata": {
    "cell_id": "13efea34bd5d470e97912b085136ad58",
    "deepnote_app_block_visible": true,
    "deepnote_cell_type": "code",
    "deepnote_to_be_reexecuted": false,
    "execution_millis": 121,
    "execution_start": 1711347781580,
    "slideshow": {
     "slide_type": "subslide"
    },
    "source_hash": null,
    "tags": []
   },
   "outputs": [
    {
     "data": {
      "application/vnd.deepnote.dataframe.v3+json": {
       "column_count": 19,
       "columns": [
        {
         "dtype": "object",
         "name": "Country",
         "stats": {
          "categories": [
           {
            "count": 1,
            "name": "Afghanistan"
           },
           {
            "count": 1,
            "name": "Albania"
           },
           {
            "count": 3,
            "name": "3 others"
           }
          ],
          "nan_count": 0,
          "unique_count": 5
         }
        },
        {
         "dtype": "object",
         "name": "World Factbook",
         "stats": {
          "categories": [
           {
            "count": 1,
            "name": "The Islamic Republic of Afghanistan"
           },
           {
            "count": 1,
            "name": "The Republic of Albania"
           },
           {
            "count": 3,
            "name": "3 others"
           }
          ],
          "nan_count": 0,
          "unique_count": 5
         }
        },
        {
         "dtype": "object",
         "name": "Sovereignty",
         "stats": {
          "categories": [
           {
            "count": 5,
            "name": "UN member"
           }
          ],
          "nan_count": 0,
          "unique_count": 1
         }
        },
        {
         "dtype": "object",
         "name": "A-2",
         "stats": {
          "categories": [
           {
            "count": 1,
            "name": "AF"
           },
           {
            "count": 1,
            "name": "AL"
           },
           {
            "count": 3,
            "name": "3 others"
           }
          ],
          "nan_count": 0,
          "unique_count": 5
         }
        },
        {
         "dtype": "object",
         "name": "A-3",
         "stats": {
          "categories": [
           {
            "count": 1,
            "name": "AFG"
           },
           {
            "count": 1,
            "name": "ALB"
           },
           {
            "count": 3,
            "name": "3 others"
           }
          ],
          "nan_count": 0,
          "unique_count": 5
         }
        },
        {
         "dtype": "object",
         "name": "Num.",
         "stats": {
          "categories": [
           {
            "count": 1,
            "name": "004"
           },
           {
            "count": 1,
            "name": "008"
           },
           {
            "count": 3,
            "name": "3 others"
           }
          ],
          "nan_count": 0,
          "unique_count": 5
         }
        },
        {
         "dtype": "object",
         "name": "Subdivision code links",
         "stats": {
          "categories": [
           {
            "count": 1,
            "name": "ISO 3166-2:AF"
           },
           {
            "count": 1,
            "name": "ISO 3166-2:AL"
           },
           {
            "count": 3,
            "name": "3 others"
           }
          ],
          "nan_count": 0,
          "unique_count": 5
         }
        },
        {
         "dtype": "object",
         "name": "TLD",
         "stats": {
          "categories": [
           {
            "count": 1,
            "name": ".af"
           },
           {
            "count": 1,
            "name": ".al"
           },
           {
            "count": 3,
            "name": "3 others"
           }
          ],
          "nan_count": 0,
          "unique_count": 5
         }
        },
        {
         "dtype": "object",
         "name": "Alpha-2 code original",
         "stats": {
          "categories": [
           {
            "count": 1,
            "name": ".mw-parser-output .monospaced{font-family:monospace,monospace}AF"
           },
           {
            "count": 1,
            "name": "AL"
           },
           {
            "count": 3,
            "name": "3 others"
           }
          ],
          "nan_count": 0,
          "unique_count": 5
         }
        },
        {
         "dtype": "int64",
         "name": "Population",
         "stats": {
          "histogram": [
           {
            "bin_end": 4616590.9,
            "bin_start": 85101,
            "count": 2
           },
           {
            "bin_end": 9148080.8,
            "bin_start": 4616590.9,
            "count": 0
           },
           {
            "bin_end": 13679570.700000001,
            "bin_start": 9148080.8,
            "count": 0
           },
           {
            "bin_end": 18211060.6,
            "bin_start": 13679570.700000001,
            "count": 0
           },
           {
            "bin_end": 22742550.5,
            "bin_start": 18211060.6,
            "count": 0
           },
           {
            "bin_end": 27274040.400000002,
            "bin_start": 22742550.5,
            "count": 0
           },
           {
            "bin_end": 31805530.300000004,
            "bin_start": 27274040.400000002,
            "count": 0
           },
           {
            "bin_end": 36337020.2,
            "bin_start": 31805530.300000004,
            "count": 2
           },
           {
            "bin_end": 40868510.1,
            "bin_start": 36337020.2,
            "count": 0
           },
           {
            "bin_end": 45400000,
            "bin_start": 40868510.1,
            "count": 1
           }
          ],
          "max": "45400000",
          "min": "85101",
          "nan_count": 0,
          "unique_count": 5
         }
        },
        {
         "dtype": "object",
         "name": "Country/Territory",
         "stats": {
          "categories": [
           {
            "count": 1,
            "name": "Afghanistan *"
           },
           {
            "count": 1,
            "name": "Albania *"
           },
           {
            "count": 3,
            "name": "3 others"
           }
          ],
          "nan_count": 0,
          "unique_count": 5
         }
        },
        {
         "dtype": "object",
         "name": "UN Region",
         "stats": {
          "categories": [
           {
            "count": 2,
            "name": "Europe"
           },
           {
            "count": 2,
            "name": "Africa"
           },
           {
            "count": 1,
            "name": "Asia"
           }
          ],
          "nan_count": 0,
          "unique_count": 3
         }
        },
        {
         "dtype": "float64",
         "name": "gdppc_IMF",
         "stats": {
          "histogram": [
           {
            "bin_end": 8615.1,
            "bin_start": 1991,
            "count": 2
           },
           {
            "bin_end": 15239.2,
            "bin_start": 8615.1,
            "count": 1
           },
           {
            "bin_end": 21863.300000000003,
            "bin_start": 15239.2,
            "count": 1
           },
           {
            "bin_end": 28487.4,
            "bin_start": 21863.300000000003,
            "count": 0
           },
           {
            "bin_end": 35111.5,
            "bin_start": 28487.4,
            "count": 0
           },
           {
            "bin_end": 41735.600000000006,
            "bin_start": 35111.5,
            "count": 0
           },
           {
            "bin_end": 48359.700000000004,
            "bin_start": 41735.600000000006,
            "count": 0
           },
           {
            "bin_end": 54983.8,
            "bin_start": 48359.700000000004,
            "count": 0
           },
           {
            "bin_end": 61607.9,
            "bin_start": 54983.8,
            "count": 0
           },
           {
            "bin_end": 68232,
            "bin_start": 61607.9,
            "count": 1
           }
          ],
          "max": "68232.0",
          "min": "1991.0",
          "nan_count": 0,
          "unique_count": 5
         }
        },
        {
         "dtype": "Int64",
         "name": "year_IMF",
         "stats": {
          "categories": [
           {
            "count": 4,
            "name": "2023"
           },
           {
            "count": 1,
            "name": "2021"
           }
          ],
          "nan_count": 0,
          "unique_count": 2
         }
        },
        {
         "dtype": "float64",
         "name": "gdppc_WB",
         "stats": {
          "histogram": [
           {
            "bin_end": 3361.8,
            "bin_start": 1674,
            "count": 1
           },
           {
            "bin_end": 5049.6,
            "bin_start": 3361.8,
            "count": 0
           },
           {
            "bin_end": 6737.4,
            "bin_start": 5049.6,
            "count": 0
           },
           {
            "bin_end": 8425.2,
            "bin_start": 6737.4,
            "count": 1
           },
           {
            "bin_end": 10113,
            "bin_start": 8425.2,
            "count": 0
           },
           {
            "bin_end": 11800.8,
            "bin_start": 10113,
            "count": 0
           },
           {
            "bin_end": 13488.6,
            "bin_start": 11800.8,
            "count": 1
           },
           {
            "bin_end": 15176.4,
            "bin_start": 13488.6,
            "count": 0
           },
           {
            "bin_end": 16864.199999999997,
            "bin_start": 15176.4,
            "count": 0
           },
           {
            "bin_end": 18552,
            "bin_start": 16864.199999999997,
            "count": 1
           }
          ],
          "max": "18552.0",
          "min": "1674.0",
          "nan_count": 1,
          "unique_count": 4
         }
        },
        {
         "dtype": "Int64",
         "name": "year_WB",
         "stats": {
          "categories": [
           {
            "count": 3,
            "name": "2022"
           },
           {
            "count": 1,
            "name": "2021"
           },
           {
            "count": 1,
            "name": "Missing"
           }
          ],
          "nan_count": 1,
          "unique_count": 2
         }
        },
        {
         "dtype": "int64",
         "name": "gdppc_CIA",
         "stats": {
          "histogram": [
           {
            "bin_end": 6340,
            "bin_start": 1500,
            "count": 2
           },
           {
            "bin_end": 11180,
            "bin_start": 6340,
            "count": 1
           },
           {
            "bin_end": 16020,
            "bin_start": 11180,
            "count": 1
           },
           {
            "bin_end": 20860,
            "bin_start": 16020,
            "count": 0
           },
           {
            "bin_end": 25700,
            "bin_start": 20860,
            "count": 0
           },
           {
            "bin_end": 30540,
            "bin_start": 25700,
            "count": 0
           },
           {
            "bin_end": 35380,
            "bin_start": 30540,
            "count": 0
           },
           {
            "bin_end": 40220,
            "bin_start": 35380,
            "count": 0
           },
           {
            "bin_end": 45060,
            "bin_start": 40220,
            "count": 0
           },
           {
            "bin_end": 49900,
            "bin_start": 45060,
            "count": 1
           }
          ],
          "max": "49900",
          "min": "1500",
          "nan_count": 0,
          "unique_count": 5
         }
        },
        {
         "dtype": "Int64",
         "name": "year_CIA",
         "stats": {
          "categories": [
           {
            "count": 4,
            "name": "2021"
           },
           {
            "count": 1,
            "name": "2015"
           }
          ],
          "nan_count": 0,
          "unique_count": 2
         }
        },
        {
         "dtype": "object",
         "name": "country_name",
         "stats": {
          "categories": [
           {
            "count": 1,
            "name": "Afghanistan"
           },
           {
            "count": 1,
            "name": "Albania"
           },
           {
            "count": 3,
            "name": "3 others"
           }
          ],
          "nan_count": 0,
          "unique_count": 5
         }
        },
        {
         "dtype": "int64",
         "name": "_deepnote_index_column"
        }
       ],
       "row_count": 5,
       "rows": [
        {
         "A-2": "AF",
         "A-3": "AFG",
         "Alpha-2 code original": ".mw-parser-output .monospaced{font-family:monospace,monospace}AF",
         "Country": "Afghanistan",
         "Country/Territory": "Afghanistan *",
         "Num.": "004",
         "Population": 34262840,
         "Sovereignty": "UN member",
         "Subdivision code links": "ISO 3166-2:AF",
         "TLD": ".af",
         "UN Region": "Asia",
         "World Factbook": "The Islamic Republic of Afghanistan",
         "_deepnote_index_column": 0,
         "country_name": "Afghanistan",
         "gdppc_CIA": 1500,
         "gdppc_IMF": 1991,
         "gdppc_WB": 1674,
         "year_CIA": "2021",
         "year_IMF": "2021",
         "year_WB": "2021"
        },
        {
         "A-2": "AL",
         "A-3": "ALB",
         "Alpha-2 code original": "AL",
         "Country": "Albania",
         "Country/Territory": "Albania *",
         "Num.": "008",
         "Population": 2761785,
         "Sovereignty": "UN member",
         "Subdivision code links": "ISO 3166-2:AL",
         "TLD": ".al",
         "UN Region": "Europe",
         "World Factbook": "The Republic of Albania",
         "_deepnote_index_column": 1,
         "country_name": "Albania",
         "gdppc_CIA": 14500,
         "gdppc_IMF": 19566,
         "gdppc_WB": 18552,
         "year_CIA": "2021",
         "year_IMF": "2023",
         "year_WB": "2022"
        },
        {
         "A-2": "DZ",
         "A-3": "DZA",
         "Alpha-2 code original": "DZ",
         "Country": "Algeria",
         "Country/Territory": "Algeria *",
         "Num.": "012",
         "Population": 45400000,
         "Sovereignty": "UN member",
         "Subdivision code links": "ISO 3166-2:DZ",
         "TLD": ".dz",
         "UN Region": "Africa",
         "World Factbook": "The People's Democratic Republic of Algeria",
         "_deepnote_index_column": 2,
         "country_name": "Algeria",
         "gdppc_CIA": 11000,
         "gdppc_IMF": 13682,
         "gdppc_WB": 13210,
         "year_CIA": "2021",
         "year_IMF": "2023",
         "year_WB": "2022"
        },
        {
         "A-2": "AD",
         "A-3": "AND",
         "Alpha-2 code original": "AD",
         "Country": "Andorra",
         "Country/Territory": "Andorra *",
         "Num.": "020",
         "Population": 85101,
         "Sovereignty": "UN member",
         "Subdivision code links": "ISO 3166-2:AD",
         "TLD": ".ad",
         "UN Region": "Europe",
         "World Factbook": "The Principality of Andorra",
         "_deepnote_index_column": 3,
         "country_name": "Andorra",
         "gdppc_CIA": 49900,
         "gdppc_IMF": 68232,
         "gdppc_WB": "nan",
         "year_CIA": "2015",
         "year_IMF": "2023",
         "year_WB": "<NA>"
        },
        {
         "A-2": "AO",
         "A-3": "AGO",
         "Alpha-2 code original": "AO",
         "Country": "Angola",
         "Country/Territory": "Angola *",
         "Num.": "024",
         "Population": 34094077,
         "Sovereignty": "UN member",
         "Subdivision code links": "ISO 3166-2:AO",
         "TLD": ".ao",
         "UN Region": "Africa",
         "World Factbook": "The Republic of Angola",
         "_deepnote_index_column": 4,
         "country_name": "Angola",
         "gdppc_CIA": 5900,
         "gdppc_IMF": 7077,
         "gdppc_WB": 6974,
         "year_CIA": "2021",
         "year_IMF": "2023",
         "year_WB": "2022"
        }
       ]
      },
      "text/html": [
       "<div>\n",
       "<style scoped>\n",
       "    .dataframe tbody tr th:only-of-type {\n",
       "        vertical-align: middle;\n",
       "    }\n",
       "\n",
       "    .dataframe tbody tr th {\n",
       "        vertical-align: top;\n",
       "    }\n",
       "\n",
       "    .dataframe thead th {\n",
       "        text-align: right;\n",
       "    }\n",
       "</style>\n",
       "<table border=\"1\" class=\"dataframe\">\n",
       "  <thead>\n",
       "    <tr style=\"text-align: right;\">\n",
       "      <th></th>\n",
       "      <th>Country</th>\n",
       "      <th>World Factbook</th>\n",
       "      <th>Sovereignty</th>\n",
       "      <th>A-2</th>\n",
       "      <th>A-3</th>\n",
       "      <th>Num.</th>\n",
       "      <th>Subdivision code links</th>\n",
       "      <th>TLD</th>\n",
       "      <th>Alpha-2 code original</th>\n",
       "      <th>Population</th>\n",
       "      <th>Country/Territory</th>\n",
       "      <th>UN Region</th>\n",
       "      <th>gdppc_IMF</th>\n",
       "      <th>year_IMF</th>\n",
       "      <th>gdppc_WB</th>\n",
       "      <th>year_WB</th>\n",
       "      <th>gdppc_CIA</th>\n",
       "      <th>year_CIA</th>\n",
       "      <th>country_name</th>\n",
       "    </tr>\n",
       "  </thead>\n",
       "  <tbody>\n",
       "    <tr>\n",
       "      <th>0</th>\n",
       "      <td>Afghanistan</td>\n",
       "      <td>The Islamic Republic of Afghanistan</td>\n",
       "      <td>UN member</td>\n",
       "      <td>AF</td>\n",
       "      <td>AFG</td>\n",
       "      <td>004</td>\n",
       "      <td>ISO 3166-2:AF</td>\n",
       "      <td>.af</td>\n",
       "      <td>.mw-parser-output .monospaced{font-family:mono...</td>\n",
       "      <td>34262840</td>\n",
       "      <td>Afghanistan *</td>\n",
       "      <td>Asia</td>\n",
       "      <td>1991.0</td>\n",
       "      <td>2021</td>\n",
       "      <td>1674.0</td>\n",
       "      <td>2021</td>\n",
       "      <td>1500</td>\n",
       "      <td>2021</td>\n",
       "      <td>Afghanistan</td>\n",
       "    </tr>\n",
       "    <tr>\n",
       "      <th>1</th>\n",
       "      <td>Albania</td>\n",
       "      <td>The Republic of Albania</td>\n",
       "      <td>UN member</td>\n",
       "      <td>AL</td>\n",
       "      <td>ALB</td>\n",
       "      <td>008</td>\n",
       "      <td>ISO 3166-2:AL</td>\n",
       "      <td>.al</td>\n",
       "      <td>AL</td>\n",
       "      <td>2761785</td>\n",
       "      <td>Albania *</td>\n",
       "      <td>Europe</td>\n",
       "      <td>19566.0</td>\n",
       "      <td>2023</td>\n",
       "      <td>18552.0</td>\n",
       "      <td>2022</td>\n",
       "      <td>14500</td>\n",
       "      <td>2021</td>\n",
       "      <td>Albania</td>\n",
       "    </tr>\n",
       "    <tr>\n",
       "      <th>2</th>\n",
       "      <td>Algeria</td>\n",
       "      <td>The People's Democratic Republic of Algeria</td>\n",
       "      <td>UN member</td>\n",
       "      <td>DZ</td>\n",
       "      <td>DZA</td>\n",
       "      <td>012</td>\n",
       "      <td>ISO 3166-2:DZ</td>\n",
       "      <td>.dz</td>\n",
       "      <td>DZ</td>\n",
       "      <td>45400000</td>\n",
       "      <td>Algeria *</td>\n",
       "      <td>Africa</td>\n",
       "      <td>13682.0</td>\n",
       "      <td>2023</td>\n",
       "      <td>13210.0</td>\n",
       "      <td>2022</td>\n",
       "      <td>11000</td>\n",
       "      <td>2021</td>\n",
       "      <td>Algeria</td>\n",
       "    </tr>\n",
       "    <tr>\n",
       "      <th>3</th>\n",
       "      <td>Andorra</td>\n",
       "      <td>The Principality of Andorra</td>\n",
       "      <td>UN member</td>\n",
       "      <td>AD</td>\n",
       "      <td>AND</td>\n",
       "      <td>020</td>\n",
       "      <td>ISO 3166-2:AD</td>\n",
       "      <td>.ad</td>\n",
       "      <td>AD</td>\n",
       "      <td>85101</td>\n",
       "      <td>Andorra *</td>\n",
       "      <td>Europe</td>\n",
       "      <td>68232.0</td>\n",
       "      <td>2023</td>\n",
       "      <td>NaN</td>\n",
       "      <td>&lt;NA&gt;</td>\n",
       "      <td>49900</td>\n",
       "      <td>2015</td>\n",
       "      <td>Andorra</td>\n",
       "    </tr>\n",
       "    <tr>\n",
       "      <th>4</th>\n",
       "      <td>Angola</td>\n",
       "      <td>The Republic of Angola</td>\n",
       "      <td>UN member</td>\n",
       "      <td>AO</td>\n",
       "      <td>AGO</td>\n",
       "      <td>024</td>\n",
       "      <td>ISO 3166-2:AO</td>\n",
       "      <td>.ao</td>\n",
       "      <td>AO</td>\n",
       "      <td>34094077</td>\n",
       "      <td>Angola *</td>\n",
       "      <td>Africa</td>\n",
       "      <td>7077.0</td>\n",
       "      <td>2023</td>\n",
       "      <td>6974.0</td>\n",
       "      <td>2022</td>\n",
       "      <td>5900</td>\n",
       "      <td>2021</td>\n",
       "      <td>Angola</td>\n",
       "    </tr>\n",
       "  </tbody>\n",
       "</table>\n",
       "</div>"
      ],
      "text/plain": [
       "       Country                               World Factbook Sovereignty A-2  \\\n",
       "0  Afghanistan          The Islamic Republic of Afghanistan   UN member  AF   \n",
       "1      Albania                      The Republic of Albania   UN member  AL   \n",
       "2      Algeria  The People's Democratic Republic of Algeria   UN member  DZ   \n",
       "3      Andorra                  The Principality of Andorra   UN member  AD   \n",
       "4       Angola                       The Republic of Angola   UN member  AO   \n",
       "\n",
       "   A-3 Num. Subdivision code links  TLD  \\\n",
       "0  AFG  004          ISO 3166-2:AF  .af   \n",
       "1  ALB  008          ISO 3166-2:AL  .al   \n",
       "2  DZA  012          ISO 3166-2:DZ  .dz   \n",
       "3  AND  020          ISO 3166-2:AD  .ad   \n",
       "4  AGO  024          ISO 3166-2:AO  .ao   \n",
       "\n",
       "                               Alpha-2 code original  Population  \\\n",
       "0  .mw-parser-output .monospaced{font-family:mono...    34262840   \n",
       "1                                                 AL     2761785   \n",
       "2                                                 DZ    45400000   \n",
       "3                                                 AD       85101   \n",
       "4                                                 AO    34094077   \n",
       "\n",
       "  Country/Territory UN Region  gdppc_IMF  year_IMF  gdppc_WB  year_WB  \\\n",
       "0     Afghanistan *      Asia     1991.0      2021    1674.0     2021   \n",
       "1         Albania *    Europe    19566.0      2023   18552.0     2022   \n",
       "2         Algeria *    Africa    13682.0      2023   13210.0     2022   \n",
       "3         Andorra *    Europe    68232.0      2023       NaN     <NA>   \n",
       "4          Angola *    Africa     7077.0      2023    6974.0     2022   \n",
       "\n",
       "   gdppc_CIA  year_CIA country_name  \n",
       "0       1500      2021  Afghanistan  \n",
       "1      14500      2021      Albania  \n",
       "2      11000      2021      Algeria  \n",
       "3      49900      2015      Andorra  \n",
       "4       5900      2021       Angola  "
      ]
     },
     "execution_count": 51,
     "metadata": {},
     "output_type": "execute_result"
    }
   ],
   "source": [
    "merged2.head()"
   ]
  },
  {
   "cell_type": "code",
   "execution_count": null,
   "metadata": {
    "cell_id": "f53a726ad17e48e4a7b6c4ab6eb962dd",
    "deepnote_app_block_visible": true,
    "deepnote_cell_type": "code",
    "deepnote_to_be_reexecuted": false,
    "execution_millis": 2031,
    "execution_start": 1712363875274,
    "slideshow": {
     "slide_type": "subslide"
    },
    "source_hash": null,
    "tags": []
   },
   "outputs": [
    {
     "data": {
      "image/png": "[encoded data removed]",
      "text/plain": [
       "<Figure size 800x600 with 1 Axes>"
      ]
     },
     "metadata": {
      "image/png": {
       "height": 545,
       "width": 734
      }
     },
     "output_type": "display_data"
    },
    {
     "data": {
      "image/png": "[encoded data removed]",
      "text/plain": [
       "<Figure size 800x600 with 1 Axes>"
      ]
     },
     "metadata": {
      "image/png": {
       "height": 545,
       "width": 694
      }
     },
     "output_type": "display_data"
    },
    {
     "data": {
      "image/png": "[encoded data removed]",
      "text/plain": [
       "<Figure size 800x600 with 1 Axes>"
      ]
     },
     "metadata": {
      "image/png": {
       "height": 550,
       "width": 734
      }
     },
     "output_type": "display_data"
    },
    {
     "data": {
      "image/png": "[encoded data removed]",
      "text/plain": [
       "<Figure size 800x600 with 1 Axes>"
      ]
     },
     "metadata": {
      "image/png": {
       "height": 550,
       "width": 694
      }
     },
     "output_type": "display_data"
    }
   ],
   "source": [
    "plots=[]\n",
    "plot_types = ['levels-levels', 'levels-logs', 'logs-levels', 'logs-logs']\n",
    "for plot_type in plot_types:\n",
    "    # Setting up the plot\n",
    "    plt.figure(figsize=(8, 6))\n",
    "    \n",
    "    # Creating the plot\n",
    "    if plot_type == 'levels-levels':\n",
    "        sns.regplot(x='Population', y='gdppc_WB', data=merged2)\n",
    "        plt.title(f'Regression Plot ({plot_type})')\n",
    "        plt.xlabel('Population')\n",
    "        plt.ylabel('GDP per capita')\n",
    "    elif plot_type == 'levels-logs':\n",
    "        sns.regplot(x='Population', y='gdppc_WB', data=merged2)\n",
    "        plt.yscale('log')\n",
    "        plt.title(f'Regression Plot ({plot_type})')\n",
    "        plt.xlabel('Population')\n",
    "        plt.ylabel('log GDP per capita')\n",
    "    elif plot_type == 'logs-levels':\n",
    "        sns.regplot(x='Population', y='gdppc_WB', data=merged2)\n",
    "        plt.xscale('log')\n",
    "        plt.title(f'Regression Plot ({plot_type})')\n",
    "        plt.xlabel('log Population')\n",
    "        plt.ylabel('GDP per capita')\n",
    "    elif plot_type == 'logs-logs':\n",
    "        sns.regplot(x='Population', y='gdppc_WB', data=merged2)\n",
    "        plt.xscale('log')\n",
    "        plt.yscale('log')\n",
    "        plt.title(f'Regression Plot ({plot_type})')\n",
    "        plt.xlabel('log Population')\n",
    "        plt.ylabel('log GDP per capita')\n",
    "    plots.append(plt)\n",
    "    \n"
   ]
  },
  {
   "cell_type": "code",
   "execution_count": null,
   "metadata": {
    "cell_id": "06376b7323424ee1bf48fae873d74233",
    "deepnote_app_block_visible": true,
    "deepnote_cell_type": "code",
    "deepnote_to_be_reexecuted": false,
    "execution_millis": 2120,
    "execution_start": 1712364022974,
    "slideshow": {
     "slide_type": "subslide"
    },
    "source_hash": null,
    "tags": []
   },
   "outputs": [
    {
     "name": "stdout",
     "output_type": "stream",
     "text": [
      "Saved regplot_levels-levels.png, regplot_levels-levels.jpg, and regplot_levels-levels.pdf\n",
      "Saved regplot_levels-logs.png, regplot_levels-logs.jpg, and regplot_levels-logs.pdf\n",
      "Saved regplot_logs-levels.png, regplot_logs-levels.jpg, and regplot_logs-levels.pdf\n",
      "Saved regplot_logs-logs.png, regplot_logs-logs.jpg, and regplot_logs-logs.pdf\n"
     ]
    },
    {
     "data": {
      "text/plain": [
       "<Figure size 640x480 with 0 Axes>"
      ]
     },
     "metadata": {},
     "output_type": "display_data"
    }
   ],
   "source": [
    "for i, plot in enumerate(plots):\n",
    "    filename_prefix = f\"regplot_{plot_types[i]}\"\n",
    "    plot.savefig(f\"{filename_prefix}.png\", dpi=300, bbox_inches=\"tight\")\n",
    "    plot.savefig(f\"{filename_prefix}.jpg\", dpi=300, bbox_inches=\"tight\")\n",
    "    plot.savefig(f\"{filename_prefix}.pdf\", bbox_inches=\"tight\")\n",
    "    print(f\"Saved {filename_prefix}.png, {filename_prefix}.jpg, and {filename_prefix}.pdf\")\n",
    "\n",
    "# Show the plots (optional)\n",
    "plt.show()"
   ]
  },
  {
   "cell_type": "markdown",
   "metadata": {
    "cell_id": "fc2fa086299540d4835f752b5f7b9e39",
    "deepnote_app_block_visible": true,
    "deepnote_cell_type": "markdown",
    "slideshow": {
     "slide_type": "fragment"
    },
    "tags": [],
    "user_expressions": []
   },
   "source": [
    "<div class=\"alert alert-block alert-warning\">\n",
    "<b>Exercise 7:</b> Create plots showing the relation between GDP per capita and Population Growth. Create all 4 types of possible regression plots (levels-levels, levels-logs, logs-levels, logs-logs) and save them as <b> PNG, PDF, and JPG</b> files. Make sure to save them in the folder you created for <b>graphs</b>\n",
    "</div>"
   ]
  },
  {
   "cell_type": "markdown",
   "metadata": {
    "cell_id": "4b92bacae62442a2a68538d196fbbd27",
    "deepnote_app_block_visible": true,
    "deepnote_cell_type": "markdown",
    "slideshow": {
     "slide_type": "slide"
    },
    "tags": [],
    "user_expressions": []
   },
   "source": [
    "Notebook written by [Ömer Özak](http://omerozak.com) for his students in Economics at [Southern Methodist University](http://www.smu.edu). Feel free to use, distribute, or contribute."
   ]
  },
  {
   "cell_type": "markdown",
   "metadata": {
    "cell_id": "4bafe2947072457bb3a3484831824675",
    "deepnote_app_block_visible": true,
    "deepnote_cell_type": "markdown",
    "slideshow": {
     "slide_type": "-"
    },
    "tags": [],
    "user_expressions": []
   },
   "source": [
    "[<center><img src=\"https://github.com/measuring-culture/Expanding-Measurement-Culture-Facebook-JRSI/blob/main/pics/SMUlogowWordmarkRB.jpg?raw=true\" width=\"250\"></center>](http://omerozak.com)"
   ]
  },
  {
   "cell_type": "markdown",
   "metadata": {
    "created_in_deepnote_cell": true,
    "deepnote_cell_type": "markdown"
   },
   "source": [
    "<a style='text-decoration:none;line-height:16px;display:flex;color:#5B5B62;padding:10px;justify-content:end;' href='https://deepnote.com?utm_source=created-in-deepnote-cell&projectId=95d4285b-443a-47e9-a5ce-ae6a0ac7fcee' target=\"_blank\">\n",
    "<img alt='Created in deepnote.com' style='display:inline;max-height:16px;margin:0px;margin-right:7.5px;' src='data:image/svg+xml;base64,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' > </img>\n",
    "Created in <span style='font-weight:600;margin-left:4px;'>Deepnote</span></a>"
   ]
  }
 ],
 "metadata": {
  "deepnote_app_layout": "powerful-article",
  "deepnote_app_reactivity_enabled": true,
  "deepnote_execution_queue": [],
  "deepnote_notebook_id": "00649ce384e64680b26fd9769ca050b9",
  "deepnote_persisted_session": {
   "createdAt": "2024-04-06T01:00:27.097Z"
  },
  "kernelspec": {
   "display_name": "Python 3 (ipykernel)",
   "language": "python",
   "name": "python3"
  },
  "language_info": {
   "codemirror_mode": {
    "name": "ipython",
    "version": 3
   },
   "file_extension": ".py",
   "mimetype": "text/x-python",
   "name": "python",
   "nbconvert_exporter": "python",
   "pygments_lexer": "ipython3",
   "version": "3.9.13"
  }
 },
 "nbformat": 4,
 "nbformat_minor": 4
}
